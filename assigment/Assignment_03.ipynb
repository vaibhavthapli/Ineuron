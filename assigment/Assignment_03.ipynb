{
 "cells": [
  {
   "cell_type": "code",
   "execution_count": null,
   "id": "8d369d5c",
   "metadata": {},
   "outputs": [],
   "source": [
    "Ans 1:"
   ]
  },
  {
   "cell_type": "code",
   "execution_count": null,
   "id": "760ac9e7",
   "metadata": {},
   "outputs": [],
   "source": [
    "Functions reduce the need for duplicate code. \n",
    "This makes programs shorter, easier to read, and easier to update. \n",
    "The main advantage of functions is code Reusability."
   ]
  },
  {
   "cell_type": "code",
   "execution_count": null,
   "id": "8494b6d4",
   "metadata": {},
   "outputs": [],
   "source": [
    "Ans 2:"
   ]
  },
  {
   "cell_type": "code",
   "execution_count": null,
   "id": "8d21cb11",
   "metadata": {},
   "outputs": [],
   "source": [
    "The code in a function executes when the function is called."
   ]
  },
  {
   "cell_type": "code",
   "execution_count": null,
   "id": "4e38e295",
   "metadata": {},
   "outputs": [],
   "source": [
    "Ans 3: "
   ]
  },
  {
   "cell_type": "code",
   "execution_count": null,
   "id": "0ec767d5",
   "metadata": {},
   "outputs": [],
   "source": [
    "def function_name(arguments):\n",
    "    \"----------------\n",
    "    -----------body-----\n",
    "    ---\"\n",
    "    \n",
    "function_name(arguments)"
   ]
  },
  {
   "cell_type": "markdown",
   "id": "12686c3a",
   "metadata": {},
   "source": [
    "It's up to us what to use **Print** or **return**"
   ]
  },
  {
   "cell_type": "code",
   "execution_count": null,
   "id": "08f800ce",
   "metadata": {},
   "outputs": [],
   "source": [
    "Ans 4:"
   ]
  },
  {
   "cell_type": "code",
   "execution_count": null,
   "id": "0e91c6ee",
   "metadata": {},
   "outputs": [],
   "source": [
    "A function is a pre-coded task to achieve a particular result.\n",
    "Wile, function call is using a function to achive that task. \n",
    "\n",
    "Using a function to do a particular task any point in program is called as function call."
   ]
  },
  {
   "cell_type": "code",
   "execution_count": null,
   "id": "f2b67529",
   "metadata": {},
   "outputs": [],
   "source": []
  },
  {
   "cell_type": "code",
   "execution_count": null,
   "id": "015fd49e",
   "metadata": {},
   "outputs": [],
   "source": [
    "Ans 5:"
   ]
  },
  {
   "cell_type": "code",
   "execution_count": null,
   "id": "0453f36f",
   "metadata": {},
   "outputs": [],
   "source": [
    "There is one global scope is created whenever a function is called,\n",
    "But there can be many local scopes are created inside a function."
   ]
  },
  {
   "cell_type": "code",
   "execution_count": null,
   "id": "5d6357b3",
   "metadata": {},
   "outputs": [],
   "source": []
  },
  {
   "cell_type": "code",
   "execution_count": null,
   "id": "665d9eee",
   "metadata": {},
   "outputs": [],
   "source": [
    "Ans 6:"
   ]
  },
  {
   "cell_type": "code",
   "execution_count": null,
   "id": "e654b64f",
   "metadata": {},
   "outputs": [],
   "source": [
    "Variable in a local scope is confined to that space of function can only be used in that function and therefore retains its\n",
    "value untill next time the same function is called"
   ]
  },
  {
   "cell_type": "code",
   "execution_count": null,
   "id": "a9853849",
   "metadata": {},
   "outputs": [],
   "source": []
  },
  {
   "cell_type": "code",
   "execution_count": null,
   "id": "53217204",
   "metadata": {},
   "outputs": [],
   "source": [
    "Ans 7:"
   ]
  },
  {
   "cell_type": "code",
   "execution_count": null,
   "id": "f6709a89",
   "metadata": {},
   "outputs": [],
   "source": [
    "It is a special statement in a function used to sent exact the same result to caller who called function, with out change its data type.\n",
    "\n",
    "yes it is possible to have return value in an expression."
   ]
  },
  {
   "cell_type": "code",
   "execution_count": null,
   "id": "8e7a64fa",
   "metadata": {},
   "outputs": [],
   "source": []
  },
  {
   "cell_type": "code",
   "execution_count": null,
   "id": "c271a094",
   "metadata": {},
   "outputs": [],
   "source": [
    "And 8:"
   ]
  },
  {
   "cell_type": "code",
   "execution_count": null,
   "id": "5af4f006",
   "metadata": {},
   "outputs": [],
   "source": [
    "It doesnt return any value for example if you want to addition of number it will perform addition but not return the results without return statement."
   ]
  },
  {
   "cell_type": "code",
   "execution_count": null,
   "id": "6ff3581b",
   "metadata": {},
   "outputs": [],
   "source": []
  },
  {
   "cell_type": "code",
   "execution_count": null,
   "id": "091e915d",
   "metadata": {},
   "outputs": [],
   "source": [
    "Ans 9:"
   ]
  },
  {
   "cell_type": "code",
   "execution_count": null,
   "id": "a6df8b59",
   "metadata": {},
   "outputs": [],
   "source": [
    " Global variable is a variable which is not connected to any particular function i.e it is free to be called in any function and also be reused. Therefore to refer a function variable to global variable we use global keyword to declare which variable are global"
   ]
  },
  {
   "cell_type": "code",
   "execution_count": null,
   "id": "cfcdce2f",
   "metadata": {},
   "outputs": [],
   "source": []
  },
  {
   "cell_type": "code",
   "execution_count": null,
   "id": "4c9890fc",
   "metadata": {},
   "outputs": [],
   "source": [
    "Ans 10:"
   ]
  },
  {
   "cell_type": "code",
   "execution_count": 1,
   "id": "31ea8919",
   "metadata": {},
   "outputs": [
    {
     "data": {
      "text/plain": [
       "NoneType"
      ]
     },
     "execution_count": 1,
     "metadata": {},
     "output_type": "execute_result"
    }
   ],
   "source": [
    "type(None)"
   ]
  },
  {
   "cell_type": "code",
   "execution_count": null,
   "id": "77bb8105",
   "metadata": {},
   "outputs": [],
   "source": [
    "The data type of None is NoneType."
   ]
  },
  {
   "cell_type": "code",
   "execution_count": null,
   "id": "513269cd",
   "metadata": {},
   "outputs": [],
   "source": []
  },
  {
   "cell_type": "code",
   "execution_count": null,
   "id": "a0b7436a",
   "metadata": {},
   "outputs": [],
   "source": [
    "Ans 11:"
   ]
  },
  {
   "cell_type": "code",
   "execution_count": null,
   "id": "9784791c",
   "metadata": {},
   "outputs": [],
   "source": [
    "It will import areallyourpetnamederic module."
   ]
  },
  {
   "cell_type": "code",
   "execution_count": null,
   "id": "8d5a8371",
   "metadata": {},
   "outputs": [],
   "source": []
  },
  {
   "cell_type": "code",
   "execution_count": null,
   "id": "581c5e75",
   "metadata": {},
   "outputs": [],
   "source": [
    "Ans 12:"
   ]
  },
  {
   "cell_type": "code",
   "execution_count": null,
   "id": "a422acd4",
   "metadata": {},
   "outputs": [],
   "source": [
    "This function can be called  spam.bacon()."
   ]
  },
  {
   "cell_type": "code",
   "execution_count": null,
   "id": "e19818d2",
   "metadata": {},
   "outputs": [],
   "source": []
  },
  {
   "cell_type": "code",
   "execution_count": null,
   "id": "24f57ad6",
   "metadata": {},
   "outputs": [],
   "source": [
    "Ans 13:"
   ]
  },
  {
   "cell_type": "code",
   "execution_count": null,
   "id": "8c3b545c",
   "metadata": {},
   "outputs": [],
   "source": [
    "I will use try and except for preventing crash"
   ]
  },
  {
   "cell_type": "code",
   "execution_count": null,
   "id": "488391b2",
   "metadata": {},
   "outputs": [],
   "source": []
  },
  {
   "cell_type": "code",
   "execution_count": null,
   "id": "c32c13a1",
   "metadata": {},
   "outputs": [],
   "source": [
    "Ans 14:"
   ]
  },
  {
   "cell_type": "code",
   "execution_count": null,
   "id": "c8165a3c",
   "metadata": {},
   "outputs": [],
   "source": [
    "TRY CLAUSE: try clause is used when you think that program can crash so you try to run the program and it crashes it wont disturb other part of program\n",
    "\n",
    "EXCEPT CLAUSE: except clause is used when you are trying a certain part of program but it fails so it used as a response to exception."
   ]
  }
 ],
 "metadata": {
  "kernelspec": {
   "display_name": "ine",
   "language": "python",
   "name": "ine"
  },
  "language_info": {
   "codemirror_mode": {
    "name": "ipython",
    "version": 3
   },
   "file_extension": ".py",
   "mimetype": "text/x-python",
   "name": "python",
   "nbconvert_exporter": "python",
   "pygments_lexer": "ipython3",
   "version": "3.10.5"
  }
 },
 "nbformat": 4,
 "nbformat_minor": 5
}
