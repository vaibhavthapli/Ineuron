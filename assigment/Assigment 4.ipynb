{
 "cells": [
  {
   "cell_type": "markdown",
   "id": "caa4ad4c",
   "metadata": {},
   "source": [
    "Ans : 1"
   ]
  },
  {
   "cell_type": "markdown",
   "id": "ccb182b0",
   "metadata": {},
   "source": [
    "[ ] represents an empty container of list."
   ]
  },
  {
   "cell_type": "code",
   "execution_count": 1,
   "id": "37b49113",
   "metadata": {},
   "outputs": [
    {
     "data": {
      "text/plain": [
       "[]"
      ]
     },
     "execution_count": 1,
     "metadata": {},
     "output_type": "execute_result"
    }
   ],
   "source": [
    "l = []\n",
    "l"
   ]
  },
  {
   "cell_type": "markdown",
   "id": "485eb8c9",
   "metadata": {},
   "source": [
    "Ans : 2"
   ]
  },
  {
   "cell_type": "code",
   "execution_count": 2,
   "id": "9c4d2a6b",
   "metadata": {},
   "outputs": [
    {
     "data": {
      "text/plain": [
       "[2, 4, 6, 8, 10]"
      ]
     },
     "execution_count": 2,
     "metadata": {},
     "output_type": "execute_result"
    }
   ],
   "source": [
    "spam = [2,4,6,8,10]\n",
    "spam"
   ]
  },
  {
   "cell_type": "code",
   "execution_count": 3,
   "id": "aca683f9",
   "metadata": {},
   "outputs": [
    {
     "data": {
      "text/plain": [
       "[2, 4, 'hello', 8, 10]"
      ]
     },
     "execution_count": 3,
     "metadata": {},
     "output_type": "execute_result"
    }
   ],
   "source": [
    "spam[2]= 'hello' #list uses zero based indexing\n",
    "spam"
   ]
  },
  {
   "cell_type": "markdown",
   "id": "79386add",
   "metadata": {},
   "source": [
    "Ans : 3"
   ]
  },
  {
   "cell_type": "code",
   "execution_count": 4,
   "id": "4d733a68",
   "metadata": {},
   "outputs": [],
   "source": [
    "spam = ['a' , 'b' , 'c' , 'd']"
   ]
  },
  {
   "cell_type": "code",
   "execution_count": 5,
   "id": "60715180",
   "metadata": {},
   "outputs": [
    {
     "name": "stdout",
     "output_type": "stream",
     "text": [
      "d\n"
     ]
    }
   ],
   "source": [
    "print(spam[int(int('3'*2)//11)])"
   ]
  },
  {
   "cell_type": "markdown",
   "id": "6bc5587e",
   "metadata": {},
   "source": [
    "Note that '3' * 2 is the string '33', which is passed to int() before being divided by 11. This eventually evaluates to 3, spam[3] is equal to d.)"
   ]
  },
  {
   "cell_type": "code",
   "execution_count": null,
   "id": "04fbfebd",
   "metadata": {},
   "outputs": [],
   "source": []
  },
  {
   "cell_type": "markdown",
   "id": "1f28c6d0",
   "metadata": {},
   "source": [
    "Ans : 4"
   ]
  },
  {
   "cell_type": "code",
   "execution_count": 11,
   "id": "00b8f167",
   "metadata": {},
   "outputs": [],
   "source": [
    "spam = ['a' , 'b' , 'c' , 'd']"
   ]
  },
  {
   "cell_type": "code",
   "execution_count": 12,
   "id": "d9221b5c",
   "metadata": {},
   "outputs": [
    {
     "data": {
      "text/plain": [
       "'d'"
      ]
     },
     "execution_count": 12,
     "metadata": {},
     "output_type": "execute_result"
    }
   ],
   "source": [
    "spam[-1]"
   ]
  },
  {
   "cell_type": "markdown",
   "id": "8bde17af",
   "metadata": {},
   "source": [
    "Lists support Negative indexing, Hence spam[-1] returs 'd'"
   ]
  },
  {
   "cell_type": "code",
   "execution_count": null,
   "id": "a9c0562a",
   "metadata": {},
   "outputs": [],
   "source": []
  },
  {
   "cell_type": "markdown",
   "id": "daffc1f5",
   "metadata": {},
   "source": [
    "Ans : 5"
   ]
  },
  {
   "cell_type": "code",
   "execution_count": 13,
   "id": "dca98ac5",
   "metadata": {},
   "outputs": [],
   "source": [
    "spam = ['a' , 'b' , 'c' , 'd']"
   ]
  },
  {
   "cell_type": "code",
   "execution_count": 14,
   "id": "0639e75b",
   "metadata": {},
   "outputs": [
    {
     "data": {
      "text/plain": [
       "['a', 'b']"
      ]
     },
     "execution_count": 14,
     "metadata": {},
     "output_type": "execute_result"
    }
   ],
   "source": [
    "spam[:2]"
   ]
  },
  {
   "cell_type": "markdown",
   "id": "55f03b32",
   "metadata": {},
   "source": [
    "spam[:2] returns all elements in the list spam from 0 to 2 excluding 2"
   ]
  },
  {
   "cell_type": "code",
   "execution_count": null,
   "id": "81af506f",
   "metadata": {},
   "outputs": [],
   "source": []
  },
  {
   "cell_type": "markdown",
   "id": "7c036683",
   "metadata": {},
   "source": [
    "Ans : 6"
   ]
  },
  {
   "cell_type": "code",
   "execution_count": 16,
   "id": "6c670a31",
   "metadata": {},
   "outputs": [],
   "source": [
    "bacon = [3.14, 'cat', 11, 'cat', True]"
   ]
  },
  {
   "cell_type": "code",
   "execution_count": 17,
   "id": "29a89f63",
   "metadata": {},
   "outputs": [
    {
     "data": {
      "text/plain": [
       "1"
      ]
     },
     "execution_count": 17,
     "metadata": {},
     "output_type": "execute_result"
    }
   ],
   "source": [
    "bacon.index('cat')"
   ]
  },
  {
   "cell_type": "markdown",
   "id": "350f7b12",
   "metadata": {},
   "source": [
    "index method returns the index of first occuerence of 'cat'"
   ]
  },
  {
   "cell_type": "code",
   "execution_count": null,
   "id": "24cf04fd",
   "metadata": {},
   "outputs": [],
   "source": []
  },
  {
   "cell_type": "markdown",
   "id": "56856dbc",
   "metadata": {},
   "source": [
    "Ans : 7"
   ]
  },
  {
   "cell_type": "code",
   "execution_count": 19,
   "id": "d7e5b067",
   "metadata": {},
   "outputs": [
    {
     "data": {
      "text/plain": [
       "[3.14, 'cat', 11, 'cat', True]"
      ]
     },
     "execution_count": 19,
     "metadata": {},
     "output_type": "execute_result"
    }
   ],
   "source": [
    "bacon = [3.14, 'cat', 11, 'cat', True]\n",
    "bacon"
   ]
  },
  {
   "cell_type": "code",
   "execution_count": 20,
   "id": "f4a336ad",
   "metadata": {},
   "outputs": [],
   "source": [
    "bacon.append(99)"
   ]
  },
  {
   "cell_type": "code",
   "execution_count": 21,
   "id": "410abc4c",
   "metadata": {},
   "outputs": [
    {
     "data": {
      "text/plain": [
       "[3.14, 'cat', 11, 'cat', True, 99]"
      ]
     },
     "execution_count": 21,
     "metadata": {},
     "output_type": "execute_result"
    }
   ],
   "source": [
    "bacon"
   ]
  },
  {
   "cell_type": "markdown",
   "id": "f33c6a4b",
   "metadata": {},
   "source": [
    "The append method adds new elements to the end of the list."
   ]
  },
  {
   "cell_type": "code",
   "execution_count": null,
   "id": "114daea6",
   "metadata": {},
   "outputs": [],
   "source": []
  },
  {
   "cell_type": "markdown",
   "id": "86f835d0",
   "metadata": {},
   "source": [
    "Ans : 8"
   ]
  },
  {
   "cell_type": "code",
   "execution_count": 23,
   "id": "474f06eb",
   "metadata": {},
   "outputs": [
    {
     "data": {
      "text/plain": [
       "[3.14, 'cat', 11, 'cat', True]"
      ]
     },
     "execution_count": 23,
     "metadata": {},
     "output_type": "execute_result"
    }
   ],
   "source": [
    "bacon = [3.14, 'cat', 11, 'cat', True]\n",
    "bacon"
   ]
  },
  {
   "cell_type": "code",
   "execution_count": 24,
   "id": "78e8dcbf",
   "metadata": {},
   "outputs": [],
   "source": [
    "bacon.remove('cat')"
   ]
  },
  {
   "cell_type": "code",
   "execution_count": 25,
   "id": "ae44f189",
   "metadata": {},
   "outputs": [
    {
     "data": {
      "text/plain": [
       "[3.14, 11, 'cat', True]"
      ]
     },
     "execution_count": 25,
     "metadata": {},
     "output_type": "execute_result"
    }
   ],
   "source": [
    "bacon"
   ]
  },
  {
   "cell_type": "markdown",
   "id": "1681ac88",
   "metadata": {},
   "source": [
    "The remove method removes the first occurence of the element in the list."
   ]
  },
  {
   "cell_type": "code",
   "execution_count": null,
   "id": "dc5a042c",
   "metadata": {},
   "outputs": [],
   "source": []
  },
  {
   "cell_type": "markdown",
   "id": "6c8721d3",
   "metadata": {},
   "source": [
    "Ans : 9"
   ]
  },
  {
   "cell_type": "markdown",
   "id": "53762858",
   "metadata": {},
   "source": [
    "The operator for list concatenation is +, while the operator for replication is *."
   ]
  },
  {
   "cell_type": "code",
   "execution_count": 26,
   "id": "d8ce350c",
   "metadata": {},
   "outputs": [
    {
     "data": {
      "text/plain": [
       "[1, 2, 3, 'vaib', 3.14, 4, 5, 6, 'sudh', 14.3]"
      ]
     },
     "execution_count": 26,
     "metadata": {},
     "output_type": "execute_result"
    }
   ],
   "source": [
    "#concatenation\n",
    "a = [1,2,3,'vaib', 3.14]\n",
    "b = [4,5,6, 'sudh', 14.3]\n",
    "c = a+b\n",
    "c"
   ]
  },
  {
   "cell_type": "code",
   "execution_count": 30,
   "id": "12888cb9",
   "metadata": {},
   "outputs": [
    {
     "data": {
      "text/plain": [
       "[1, 2, 3, 'vaib', 3.14, 1, 2, 3, 'vaib', 3.14]"
      ]
     },
     "execution_count": 30,
     "metadata": {},
     "output_type": "execute_result"
    }
   ],
   "source": [
    "# replication\n",
    "d = a*2\n",
    "d"
   ]
  },
  {
   "cell_type": "code",
   "execution_count": null,
   "id": "c22ddb1b",
   "metadata": {},
   "outputs": [],
   "source": []
  },
  {
   "cell_type": "markdown",
   "id": "fdb70e8b",
   "metadata": {},
   "source": [
    "Ans : 10"
   ]
  },
  {
   "cell_type": "markdown",
   "id": "3fee22af",
   "metadata": {},
   "source": [
    "While append() will add values only to the end of a list, insert() can add them anywhere in the list with the help of index."
   ]
  },
  {
   "cell_type": "code",
   "execution_count": 31,
   "id": "cd9c6ca0",
   "metadata": {},
   "outputs": [
    {
     "data": {
      "text/plain": [
       "[1, 2, 3, 4, 5]"
      ]
     },
     "execution_count": 31,
     "metadata": {},
     "output_type": "execute_result"
    }
   ],
   "source": [
    "l = [1,2,3,4,5]\n",
    "l"
   ]
  },
  {
   "cell_type": "code",
   "execution_count": 32,
   "id": "2381d2f7",
   "metadata": {},
   "outputs": [],
   "source": [
    "#append\n",
    "\n",
    "l.append(6)"
   ]
  },
  {
   "cell_type": "code",
   "execution_count": 33,
   "id": "9d918ccb",
   "metadata": {},
   "outputs": [
    {
     "data": {
      "text/plain": [
       "[1, 2, 3, 4, 5, 6]"
      ]
     },
     "execution_count": 33,
     "metadata": {},
     "output_type": "execute_result"
    }
   ],
   "source": [
    "l"
   ]
  },
  {
   "cell_type": "code",
   "execution_count": 34,
   "id": "f434425d",
   "metadata": {},
   "outputs": [],
   "source": [
    "#insert\n",
    "\n",
    "l.insert(3,'vaib')"
   ]
  },
  {
   "cell_type": "code",
   "execution_count": 35,
   "id": "75713049",
   "metadata": {},
   "outputs": [
    {
     "data": {
      "text/plain": [
       "[1, 2, 3, 'vaib', 4, 5, 6]"
      ]
     },
     "execution_count": 35,
     "metadata": {},
     "output_type": "execute_result"
    }
   ],
   "source": [
    "l"
   ]
  },
  {
   "cell_type": "code",
   "execution_count": null,
   "id": "4852118e",
   "metadata": {},
   "outputs": [],
   "source": []
  },
  {
   "cell_type": "markdown",
   "id": "3ba0aaf5",
   "metadata": {},
   "source": [
    "Ans : 11"
   ]
  },
  {
   "cell_type": "markdown",
   "id": "d4331cd3",
   "metadata": {},
   "source": [
    "The **pop()** statement and the **remove()** method are two ways to remove values from a list"
   ]
  },
  {
   "cell_type": "markdown",
   "id": "770574cb",
   "metadata": {},
   "source": [
    "pop() : to remove an item by index and return get its value.\n",
    "\n",
    "remove() : to remove an item by value."
   ]
  },
  {
   "cell_type": "code",
   "execution_count": null,
   "id": "df4df41a",
   "metadata": {},
   "outputs": [],
   "source": []
  },
  {
   "cell_type": "markdown",
   "id": "6110cf13",
   "metadata": {},
   "source": [
    "Ans : 12"
   ]
  },
  {
   "cell_type": "markdown",
   "id": "ee11dfdb",
   "metadata": {},
   "source": [
    "Both lists and strings can be passed to *len()* function, have indexes and slices, be used in *for loops*, be concatenated or replicated, and be used with the *in* and *not* in operators.\n",
    "\n",
    "Both can contain different data types."
   ]
  },
  {
   "cell_type": "code",
   "execution_count": 49,
   "id": "c3de0db8",
   "metadata": {},
   "outputs": [
    {
     "data": {
      "text/plain": [
       "['123', {'123': 3434}, {1, 'b'}, [123, 12, 3]]"
      ]
     },
     "execution_count": 49,
     "metadata": {},
     "output_type": "execute_result"
    }
   ],
   "source": [
    "a =  ['123', {'123' : 3434}, {'b', 1} , [123,12,3]]\n",
    "a"
   ]
  },
  {
   "cell_type": "code",
   "execution_count": 51,
   "id": "2f7709a4",
   "metadata": {},
   "outputs": [
    {
     "data": {
      "text/plain": [
       "\" '123', {'123' : 3434}, {'b', 1} , [123,12,3] \""
      ]
     },
     "execution_count": 51,
     "metadata": {},
     "output_type": "execute_result"
    }
   ],
   "source": [
    "b = \" '123', {'123' : 3434}, {'b', 1} , [123,12,3] \"\n",
    "b"
   ]
  },
  {
   "cell_type": "code",
   "execution_count": null,
   "id": "33bc6301",
   "metadata": {},
   "outputs": [],
   "source": []
  },
  {
   "cell_type": "markdown",
   "id": "fd864a8f",
   "metadata": {},
   "source": [
    "Ans : 13"
   ]
  },
  {
   "cell_type": "markdown",
   "id": "632c90d6",
   "metadata": {},
   "source": [
    "**Lists** are **Mutable**, **Indexable** and **Slicable**, they can have values added, removed, or changed.\n",
    "\n",
    "**Tuples** are **Immutable** but **Indexable** and **Slicable**, the tuple values cannot be changed at all.\n",
    "\n",
    "Also, tuples are represented using parentheses, (), while lists use the square brackets, []."
   ]
  },
  {
   "cell_type": "code",
   "execution_count": null,
   "id": "a17f77a5",
   "metadata": {},
   "outputs": [],
   "source": []
  },
  {
   "cell_type": "markdown",
   "id": "ac54e066",
   "metadata": {},
   "source": [
    "Ans : 14"
   ]
  },
  {
   "cell_type": "code",
   "execution_count": 52,
   "id": "2e544ac8",
   "metadata": {},
   "outputs": [
    {
     "data": {
      "text/plain": [
       "tuple"
      ]
     },
     "execution_count": 52,
     "metadata": {},
     "output_type": "execute_result"
    }
   ],
   "source": [
    "t = (42,)\n",
    "type(t)"
   ]
  },
  {
   "cell_type": "code",
   "execution_count": 53,
   "id": "1be4f501",
   "metadata": {},
   "outputs": [
    {
     "data": {
      "text/plain": [
       "(42,)"
      ]
     },
     "execution_count": 53,
     "metadata": {},
     "output_type": "execute_result"
    }
   ],
   "source": [
    "t"
   ]
  },
  {
   "cell_type": "code",
   "execution_count": null,
   "id": "70698011",
   "metadata": {},
   "outputs": [],
   "source": []
  },
  {
   "cell_type": "markdown",
   "id": "4e60daec",
   "metadata": {},
   "source": [
    "Ans : 15"
   ]
  },
  {
   "cell_type": "code",
   "execution_count": 55,
   "id": "a763b38e",
   "metadata": {},
   "outputs": [
    {
     "data": {
      "text/plain": [
       "[1, 2, 3, 4, 5]"
      ]
     },
     "execution_count": 55,
     "metadata": {},
     "output_type": "execute_result"
    }
   ],
   "source": [
    "a = [1,2,3,4,5]\n",
    "a"
   ]
  },
  {
   "cell_type": "code",
   "execution_count": 56,
   "id": "30e7e77e",
   "metadata": {},
   "outputs": [
    {
     "data": {
      "text/plain": [
       "(1, 2, 3, 4, 5)"
      ]
     },
     "execution_count": 56,
     "metadata": {},
     "output_type": "execute_result"
    }
   ],
   "source": [
    "tuple(a)"
   ]
  },
  {
   "cell_type": "code",
   "execution_count": 60,
   "id": "a76e6620",
   "metadata": {},
   "outputs": [
    {
     "data": {
      "text/plain": [
       "(1, 2, 3, 4, 5)"
      ]
     },
     "execution_count": 60,
     "metadata": {},
     "output_type": "execute_result"
    }
   ],
   "source": [
    "b = (1,2,3,4,5)\n",
    "b"
   ]
  },
  {
   "cell_type": "code",
   "execution_count": 61,
   "id": "840ca072",
   "metadata": {},
   "outputs": [
    {
     "data": {
      "text/plain": [
       "[1, 2, 3, 4, 5]"
      ]
     },
     "execution_count": 61,
     "metadata": {},
     "output_type": "execute_result"
    }
   ],
   "source": [
    "list(b)"
   ]
  },
  {
   "cell_type": "code",
   "execution_count": null,
   "id": "a1627b23",
   "metadata": {},
   "outputs": [],
   "source": []
  },
  {
   "cell_type": "markdown",
   "id": "cb1cb8d4",
   "metadata": {},
   "source": [
    "Ans : 16"
   ]
  },
  {
   "cell_type": "markdown",
   "id": "e69f072a",
   "metadata": {},
   "source": [
    "They contain name references to list values, because list itself is a object."
   ]
  },
  {
   "cell_type": "code",
   "execution_count": null,
   "id": "de4942a7",
   "metadata": {},
   "outputs": [],
   "source": []
  },
  {
   "cell_type": "markdown",
   "id": "9d289f97",
   "metadata": {},
   "source": [
    "Ans : 17"
   ]
  },
  {
   "cell_type": "markdown",
   "id": "a8db39e7",
   "metadata": {},
   "source": [
    "**copy.copy()** means shallow copy of a list, where we can copy the entire list same as old list. When we change the value of old list new copy list values change automatically."
   ]
  },
  {
   "cell_type": "code",
   "execution_count": 66,
   "id": "7d527403",
   "metadata": {},
   "outputs": [
    {
     "name": "stdout",
     "output_type": "stream",
     "text": [
      "Old list: [[1, 2, 3], [4, 5, 6], [7, 8, 9]]\n",
      "New list: [[1, 2, 3], [4, 5, 6], [7, 8, 9]]\n"
     ]
    }
   ],
   "source": [
    "import copy\n",
    "\n",
    "old_list = [[1, 2, 3], [4, 5, 6], [7, 8, 9]]\n",
    "new_list = copy.copy(old_list)\n",
    "\n",
    "print(\"Old list:\", old_list)\n",
    "print(\"New list:\", new_list)"
   ]
  },
  {
   "cell_type": "code",
   "execution_count": 67,
   "id": "e0362831",
   "metadata": {},
   "outputs": [],
   "source": [
    "old_list[1][1] = 'AA'"
   ]
  },
  {
   "cell_type": "code",
   "execution_count": 68,
   "id": "5ff0bbae",
   "metadata": {},
   "outputs": [
    {
     "name": "stdout",
     "output_type": "stream",
     "text": [
      "Old list: [[1, 2, 3], [4, 'AA', 6], [7, 8, 9]]\n"
     ]
    }
   ],
   "source": [
    "print(\"Old list:\", old_list)"
   ]
  },
  {
   "cell_type": "code",
   "execution_count": 69,
   "id": "badb960b",
   "metadata": {},
   "outputs": [
    {
     "name": "stdout",
     "output_type": "stream",
     "text": [
      "New list: [[1, 2, 3], [4, 'AA', 6], [7, 8, 9]]\n"
     ]
    }
   ],
   "source": [
    "print(\"New list:\", new_list)"
   ]
  },
  {
   "cell_type": "code",
   "execution_count": null,
   "id": "b9e7cb81",
   "metadata": {},
   "outputs": [],
   "source": []
  },
  {
   "cell_type": "markdown",
   "id": "f07ce230",
   "metadata": {},
   "source": [
    "**copy.deepcopy()** means deep copy of a list, where we can also copy the entire list same as old list. But when we change the value of old list new copy list values doesn't change automatically."
   ]
  },
  {
   "cell_type": "code",
   "execution_count": 70,
   "id": "d6b866af",
   "metadata": {},
   "outputs": [
    {
     "name": "stdout",
     "output_type": "stream",
     "text": [
      "Old list: [[1, 2, 3], [4, 5, 6], [7, 8, 9]]\n",
      "New list: [[1, 2, 3], [4, 5, 6], [7, 8, 9]]\n"
     ]
    }
   ],
   "source": [
    "import copy\n",
    "\n",
    "old_list = [[1, 2, 3], [4, 5, 6], [7, 8, 9]]\n",
    "new_list = copy.deepcopy(old_list)\n",
    "\n",
    "print(\"Old list:\", old_list)\n",
    "print(\"New list:\", new_list)"
   ]
  },
  {
   "cell_type": "code",
   "execution_count": 71,
   "id": "4d017dfd",
   "metadata": {},
   "outputs": [],
   "source": [
    "old_list[1][1] = 'BB'"
   ]
  },
  {
   "cell_type": "code",
   "execution_count": 72,
   "id": "687d2a85",
   "metadata": {},
   "outputs": [
    {
     "name": "stdout",
     "output_type": "stream",
     "text": [
      "Old list: [[1, 2, 3], [4, 'BB', 6], [7, 8, 9]]\n"
     ]
    }
   ],
   "source": [
    "print(\"Old list:\", old_list)"
   ]
  },
  {
   "cell_type": "code",
   "execution_count": 73,
   "id": "438bf63c",
   "metadata": {},
   "outputs": [
    {
     "name": "stdout",
     "output_type": "stream",
     "text": [
      "New list: [[1, 2, 3], [4, 5, 6], [7, 8, 9]]\n"
     ]
    }
   ],
   "source": [
    "print(\"New list:\", new_list)"
   ]
  },
  {
   "cell_type": "code",
   "execution_count": null,
   "id": "19a864f3",
   "metadata": {},
   "outputs": [],
   "source": []
  }
 ],
 "metadata": {
  "kernelspec": {
   "display_name": "ine",
   "language": "python",
   "name": "ine"
  },
  "language_info": {
   "codemirror_mode": {
    "name": "ipython",
    "version": 3
   },
   "file_extension": ".py",
   "mimetype": "text/x-python",
   "name": "python",
   "nbconvert_exporter": "python",
   "pygments_lexer": "ipython3",
   "version": "3.10.5"
  }
 },
 "nbformat": 4,
 "nbformat_minor": 5
}
