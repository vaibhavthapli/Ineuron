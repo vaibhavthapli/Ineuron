{
 "cells": [
  {
   "cell_type": "markdown",
   "id": "2422275b",
   "metadata": {},
   "source": [
    "Ans : 1"
   ]
  },
  {
   "cell_type": "code",
   "execution_count": 1,
   "id": "a3c228f3",
   "metadata": {},
   "outputs": [
    {
     "data": {
      "text/plain": [
       "{}"
      ]
     },
     "execution_count": 1,
     "metadata": {},
     "output_type": "execute_result"
    }
   ],
   "source": [
    "# empty dictionary\n",
    "\n",
    "d = {}\n",
    "d"
   ]
  },
  {
   "cell_type": "code",
   "execution_count": null,
   "id": "780a09c9",
   "metadata": {},
   "outputs": [],
   "source": []
  },
  {
   "cell_type": "markdown",
   "id": "0d8fe748",
   "metadata": {},
   "source": [
    "Ans : 2"
   ]
  },
  {
   "cell_type": "code",
   "execution_count": 3,
   "id": "283cb906",
   "metadata": {},
   "outputs": [
    {
     "data": {
      "text/plain": [
       "{'foo': 42}"
      ]
     },
     "execution_count": 3,
     "metadata": {},
     "output_type": "execute_result"
    }
   ],
   "source": [
    "d = {'foo' : 42}\n",
    "d"
   ]
  },
  {
   "cell_type": "code",
   "execution_count": 4,
   "id": "508357b0",
   "metadata": {},
   "outputs": [
    {
     "data": {
      "text/plain": [
       "dict_values([42])"
      ]
     },
     "execution_count": 4,
     "metadata": {},
     "output_type": "execute_result"
    }
   ],
   "source": [
    "d.values()"
   ]
  },
  {
   "cell_type": "code",
   "execution_count": 5,
   "id": "94344a47",
   "metadata": {},
   "outputs": [
    {
     "data": {
      "text/plain": [
       "dict_keys(['foo'])"
      ]
     },
     "execution_count": 5,
     "metadata": {},
     "output_type": "execute_result"
    }
   ],
   "source": [
    "d.keys()"
   ]
  },
  {
   "cell_type": "code",
   "execution_count": null,
   "id": "2bfc2c6b",
   "metadata": {},
   "outputs": [],
   "source": []
  },
  {
   "cell_type": "markdown",
   "id": "5d833926",
   "metadata": {},
   "source": [
    "Ans : 3"
   ]
  },
  {
   "cell_type": "markdown",
   "id": "d033bd0b",
   "metadata": {},
   "source": [
    "Dictionaries are represented by {} where as listed are represented by []\n",
    "\n",
    "The Items stored in a dictionary are Unordered , while the items in a list are ordered \n",
    "\n",
    "Dictionary has a key value pair as one entity whereas list has individual elements."
   ]
  },
  {
   "cell_type": "code",
   "execution_count": null,
   "id": "4f49b497",
   "metadata": {},
   "outputs": [],
   "source": []
  },
  {
   "cell_type": "markdown",
   "id": "381d10b4",
   "metadata": {},
   "source": [
    "Ans : 4"
   ]
  },
  {
   "cell_type": "code",
   "execution_count": 7,
   "id": "6b6e57df",
   "metadata": {},
   "outputs": [
    {
     "ename": "KeyError",
     "evalue": "'foo'",
     "output_type": "error",
     "traceback": [
      "\u001b[1;31m---------------------------------------------------------------------------\u001b[0m",
      "\u001b[1;31mKeyError\u001b[0m                                  Traceback (most recent call last)",
      "Input \u001b[1;32mIn [7]\u001b[0m, in \u001b[0;36m<cell line: 2>\u001b[1;34m()\u001b[0m\n\u001b[0;32m      1\u001b[0m spam \u001b[38;5;241m=\u001b[39m {\u001b[38;5;124m\"\u001b[39m\u001b[38;5;124mbar\u001b[39m\u001b[38;5;124m\"\u001b[39m : \u001b[38;5;241m100\u001b[39m}\n\u001b[1;32m----> 2\u001b[0m \u001b[43mspam\u001b[49m\u001b[43m[\u001b[49m\u001b[38;5;124;43m'\u001b[39;49m\u001b[38;5;124;43mfoo\u001b[39;49m\u001b[38;5;124;43m'\u001b[39;49m\u001b[43m]\u001b[49m\n",
      "\u001b[1;31mKeyError\u001b[0m: 'foo'"
     ]
    }
   ],
   "source": [
    "spam = {\"bar\" : 100}\n",
    "spam['foo'] #KeyError"
   ]
  },
  {
   "cell_type": "code",
   "execution_count": null,
   "id": "b0e568c1",
   "metadata": {},
   "outputs": [],
   "source": []
  },
  {
   "cell_type": "markdown",
   "id": "6e461282",
   "metadata": {},
   "source": [
    "Ans : 5"
   ]
  },
  {
   "cell_type": "markdown",
   "id": "7b5ded89",
   "metadata": {},
   "source": [
    "There is no difference. The operator checks whether a value exits as a key in the dictionary or not. Because by default it always check keys values."
   ]
  },
  {
   "cell_type": "code",
   "execution_count": null,
   "id": "b00e2b95",
   "metadata": {},
   "outputs": [],
   "source": []
  },
  {
   "cell_type": "markdown",
   "id": "ea1d8bfb",
   "metadata": {},
   "source": [
    "Ans : 6"
   ]
  },
  {
   "cell_type": "markdown",
   "id": "86cdb18f",
   "metadata": {},
   "source": [
    "'cat' in spam checks whether there is a 'cat' key in the dictionary, while 'cat' in spam.values() checks whether there is a\n",
    "\n",
    "value 'cat' for one of the keys in spam."
   ]
  },
  {
   "cell_type": "code",
   "execution_count": null,
   "id": "e32bb341",
   "metadata": {},
   "outputs": [],
   "source": []
  },
  {
   "cell_type": "markdown",
   "id": "0436bc05",
   "metadata": {},
   "source": [
    "Ans :7"
   ]
  },
  {
   "cell_type": "code",
   "execution_count": 14,
   "id": "3e22c012",
   "metadata": {},
   "outputs": [
    {
     "data": {
      "text/plain": [
       "'black'"
      ]
     },
     "execution_count": 14,
     "metadata": {},
     "output_type": "execute_result"
    }
   ],
   "source": [
    "spam.setdefault('color', 'black')"
   ]
  },
  {
   "cell_type": "code",
   "execution_count": null,
   "id": "c9427af4",
   "metadata": {},
   "outputs": [],
   "source": []
  },
  {
   "cell_type": "markdown",
   "id": "dfd9b372",
   "metadata": {},
   "source": [
    "Ans : 8"
   ]
  },
  {
   "cell_type": "markdown",
   "id": "cbec26e0",
   "metadata": {},
   "source": [
    "When ever we want to use \"preety print\" dictionary,\n",
    "\n",
    "we use **pprint** module, and **pprint.pprint** function"
   ]
  },
  {
   "cell_type": "code",
   "execution_count": 1,
   "id": "7ea75276",
   "metadata": {},
   "outputs": [],
   "source": [
    "data = {\"squares\":[pow(i, 2) for i in range(1, 10)], \"cubes\": [pow(i, 3) for i in range(1, 10)], \"Biquadrates\":[pow(i, 4) for i in range(1, 10)]}"
   ]
  },
  {
   "cell_type": "code",
   "execution_count": 2,
   "id": "a636fa0c",
   "metadata": {},
   "outputs": [
    {
     "data": {
      "text/plain": [
       "{'squares': [1, 4, 9, 16, 25, 36, 49, 64, 81],\n",
       " 'cubes': [1, 8, 27, 64, 125, 216, 343, 512, 729],\n",
       " 'Biquadrates': [1, 16, 81, 256, 625, 1296, 2401, 4096, 6561]}"
      ]
     },
     "execution_count": 2,
     "metadata": {},
     "output_type": "execute_result"
    }
   ],
   "source": [
    "data"
   ]
  },
  {
   "cell_type": "code",
   "execution_count": 3,
   "id": "b10db96d",
   "metadata": {
    "scrolled": true
   },
   "outputs": [
    {
     "ename": "NameError",
     "evalue": "name 'pprint' is not defined",
     "output_type": "error",
     "traceback": [
      "\u001b[1;31m---------------------------------------------------------------------------\u001b[0m",
      "\u001b[1;31mNameError\u001b[0m                                 Traceback (most recent call last)",
      "Input \u001b[1;32mIn [3]\u001b[0m, in \u001b[0;36m<cell line: 1>\u001b[1;34m()\u001b[0m\n\u001b[1;32m----> 1\u001b[0m \u001b[43mpprint\u001b[49m\u001b[38;5;241m.\u001b[39mpprint(data)\n",
      "\u001b[1;31mNameError\u001b[0m: name 'pprint' is not defined"
     ]
    }
   ],
   "source": [
    "pprint.pprint(data)"
   ]
  },
  {
   "cell_type": "code",
   "execution_count": 4,
   "id": "67775f84",
   "metadata": {},
   "outputs": [
    {
     "name": "stdout",
     "output_type": "stream",
     "text": [
      "{'Biquadrates': [1, 16, 81, 256, 625, 1296, 2401, 4096, 6561],\n",
      " 'cubes': [1, 8, 27, 64, 125, 216, 343, 512, 729],\n",
      " 'squares': [1, 4, 9, 16, 25, 36, 49, 64, 81]}\n"
     ]
    }
   ],
   "source": [
    "import pprint  #module\n",
    "pprint.pprint(data) #function"
   ]
  },
  {
   "cell_type": "code",
   "execution_count": null,
   "id": "f00449bd",
   "metadata": {},
   "outputs": [],
   "source": []
  }
 ],
 "metadata": {
  "kernelspec": {
   "display_name": "ine",
   "language": "python",
   "name": "ine"
  },
  "language_info": {
   "codemirror_mode": {
    "name": "ipython",
    "version": 3
   },
   "file_extension": ".py",
   "mimetype": "text/x-python",
   "name": "python",
   "nbconvert_exporter": "python",
   "pygments_lexer": "ipython3",
   "version": "3.10.5"
  }
 },
 "nbformat": 4,
 "nbformat_minor": 5
}
