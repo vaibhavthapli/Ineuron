{
 "cells": [
  {
   "cell_type": "markdown",
   "id": "4726a855",
   "metadata": {},
   "source": [
    "**1**  \n",
    "Ans:  (*) --- Expression\n",
    "\n",
    "('hello') --- *Value* \n",
    "\n",
    "(-) --- Expression\n",
    "\n",
    "(/) ---- Expression\n",
    "\n",
    "(+) ----- Expression\n",
    "\n",
    "(6) ----- Value"
   ]
  },
  {
   "cell_type": "markdown",
   "id": "dcb60c0d",
   "metadata": {},
   "source": [
    "**2**\n",
    "\n",
    "Ans : \n",
    "**String** : String can be written in quotes such as: \"Vaibhav\", \"ineuron\"\n",
    "\n",
    "**Variable** : Variable is a kind of intity where we can store a data which we can process in a run time. It is like a container.\n",
    "\n",
    "Ex :  a = 10\n",
    "\n",
    "Here  'a' is a variable and '10' is a values which is stored in a box name 'a'."
   ]
  },
  {
   "cell_type": "markdown",
   "id": "c6e37f70",
   "metadata": {},
   "source": [
    "**3**\n",
    "\n",
    "Ans: **Integer** : Integer is a data type which is represented as **int**, that store only whole numbers. **Ex**: 1,2,15,14,..\n",
    "\n",
    "**Float** : Float is a also a data type which is represented as **float**, that can only store decimal values. **Ex**: 23.33 , 15.01 , 20.13,... \n",
    "\n",
    "**List** : A list is an intity where we can store multiple data items in a single variable. We represent list in a square bracket.\n",
    " **Ex**: a = [1, 2 , 3 , \"Vaib\"]"
   ]
  },
  {
   "cell_type": "markdown",
   "id": "e018cb15",
   "metadata": {},
   "source": [
    "**4**\n",
    "\n",
    "Ans: Expressions are made up of mathematical operators and values. **E.g**  c = 12 + 15\n",
    "\n",
    " Expressions are used to represent the result on the screen."
   ]
  },
  {
   "cell_type": "markdown",
   "id": "23349fb3",
   "metadata": {},
   "source": [
    "**5**\n",
    "\n",
    " Ans: Expressions are made up of mathematical operators and values.\n",
    " \n",
    "Statement is just like a command which give as any output"
   ]
  },
  {
   "cell_type": "markdown",
   "id": "bc3e525e",
   "metadata": {},
   "source": [
    "**6**"
   ]
  },
  {
   "cell_type": "code",
   "execution_count": 2,
   "id": "d2f52286",
   "metadata": {},
   "outputs": [],
   "source": [
    "bacon = 22"
   ]
  },
  {
   "cell_type": "code",
   "execution_count": 3,
   "id": "b4a22d71",
   "metadata": {},
   "outputs": [
    {
     "data": {
      "text/plain": [
       "23"
      ]
     },
     "execution_count": 3,
     "metadata": {},
     "output_type": "execute_result"
    }
   ],
   "source": [
    "bacon + 1"
   ]
  },
  {
   "cell_type": "markdown",
   "id": "c3e76448",
   "metadata": {},
   "source": [
    "Ans: 23"
   ]
  },
  {
   "cell_type": "markdown",
   "id": "b8ece720",
   "metadata": {},
   "source": [
    "**7**"
   ]
  },
  {
   "cell_type": "code",
   "execution_count": 4,
   "id": "ab3b101e",
   "metadata": {},
   "outputs": [
    {
     "data": {
      "text/plain": [
       "'spamspamspam'"
      ]
     },
     "execution_count": 4,
     "metadata": {},
     "output_type": "execute_result"
    }
   ],
   "source": [
    "'spam' + 'spamspam'"
   ]
  },
  {
   "cell_type": "code",
   "execution_count": 5,
   "id": "a809dba3",
   "metadata": {},
   "outputs": [
    {
     "data": {
      "text/plain": [
       "'spamspamspam'"
      ]
     },
     "execution_count": 5,
     "metadata": {},
     "output_type": "execute_result"
    }
   ],
   "source": [
    "'spam' * 3"
   ]
  },
  {
   "cell_type": "markdown",
   "id": "94e38649",
   "metadata": {},
   "source": [
    "Ans: 'spam' + 'spamspam' = 'spamspamspam'\n",
    "\n",
    "'spam' * 3 = 'spamspamspam'"
   ]
  },
  {
   "cell_type": "markdown",
   "id": "dc967ba8",
   "metadata": {},
   "source": [
    "**8**"
   ]
  },
  {
   "cell_type": "code",
   "execution_count": 6,
   "id": "c42639f7",
   "metadata": {},
   "outputs": [],
   "source": [
    "eggs = 13"
   ]
  },
  {
   "cell_type": "code",
   "execution_count": 7,
   "id": "ee964166",
   "metadata": {},
   "outputs": [
    {
     "ename": "SyntaxError",
     "evalue": "cannot assign to literal (1566121009.py, line 1)",
     "output_type": "error",
     "traceback": [
      "\u001b[1;36m  Input \u001b[1;32mIn [7]\u001b[1;36m\u001b[0m\n\u001b[1;33m    100 = 13\u001b[0m\n\u001b[1;37m    ^\u001b[0m\n\u001b[1;31mSyntaxError\u001b[0m\u001b[1;31m:\u001b[0m cannot assign to literal\n"
     ]
    }
   ],
   "source": [
    "100 = 13"
   ]
  },
  {
   "cell_type": "code",
   "execution_count": 9,
   "id": "48c42f0c",
   "metadata": {},
   "outputs": [
    {
     "ename": "SyntaxError",
     "evalue": "invalid syntax (247169323.py, line 1)",
     "output_type": "error",
     "traceback": [
      "\u001b[1;36m  Input \u001b[1;32mIn [9]\u001b[1;36m\u001b[0m\n\u001b[1;33m    100q = 13\u001b[0m\n\u001b[1;37m       ^\u001b[0m\n\u001b[1;31mSyntaxError\u001b[0m\u001b[1;31m:\u001b[0m invalid syntax\n"
     ]
    }
   ],
   "source": [
    "100q = 13"
   ]
  },
  {
   "cell_type": "code",
   "execution_count": 8,
   "id": "3296a7ad",
   "metadata": {},
   "outputs": [],
   "source": [
    "w100 = 13"
   ]
  },
  {
   "cell_type": "markdown",
   "id": "e5327dca",
   "metadata": {},
   "source": [
    "Ans : We can't give variable an integer name. If we want, it should begin with a alphabet name then integer."
   ]
  },
  {
   "cell_type": "markdown",
   "id": "9b98e4c3",
   "metadata": {},
   "source": [
    "**9**"
   ]
  },
  {
   "cell_type": "code",
   "execution_count": 12,
   "id": "3f9269c9",
   "metadata": {},
   "outputs": [],
   "source": [
    "a = str(1)"
   ]
  },
  {
   "cell_type": "code",
   "execution_count": 13,
   "id": "18b6a03a",
   "metadata": {},
   "outputs": [
    {
     "data": {
      "text/plain": [
       "str"
      ]
     },
     "execution_count": 13,
     "metadata": {},
     "output_type": "execute_result"
    }
   ],
   "source": [
    "type(a)"
   ]
  },
  {
   "cell_type": "code",
   "execution_count": 19,
   "id": "76526aa6",
   "metadata": {},
   "outputs": [],
   "source": [
    "b = int(12.1)"
   ]
  },
  {
   "cell_type": "code",
   "execution_count": 20,
   "id": "8f42bbcb",
   "metadata": {},
   "outputs": [
    {
     "data": {
      "text/plain": [
       "int"
      ]
     },
     "execution_count": 20,
     "metadata": {},
     "output_type": "execute_result"
    }
   ],
   "source": [
    "type(b)"
   ]
  },
  {
   "cell_type": "code",
   "execution_count": 21,
   "id": "64f96c63",
   "metadata": {},
   "outputs": [],
   "source": [
    "c = float(1545)"
   ]
  },
  {
   "cell_type": "code",
   "execution_count": 22,
   "id": "11d7949d",
   "metadata": {},
   "outputs": [
    {
     "data": {
      "text/plain": [
       "float"
      ]
     },
     "execution_count": 22,
     "metadata": {},
     "output_type": "execute_result"
    }
   ],
   "source": [
    "type(c)"
   ]
  },
  {
   "cell_type": "markdown",
   "id": "300bc13b",
   "metadata": {},
   "source": [
    "Ans : str(), int(), float()"
   ]
  },
  {
   "cell_type": "markdown",
   "id": "1f4ce7b8",
   "metadata": {},
   "source": [
    "**10**"
   ]
  },
  {
   "cell_type": "code",
   "execution_count": 23,
   "id": "450d92fe",
   "metadata": {},
   "outputs": [
    {
     "ename": "TypeError",
     "evalue": "can only concatenate str (not \"int\") to str",
     "output_type": "error",
     "traceback": [
      "\u001b[1;31m---------------------------------------------------------------------------\u001b[0m",
      "\u001b[1;31mTypeError\u001b[0m                                 Traceback (most recent call last)",
      "Input \u001b[1;32mIn [23]\u001b[0m, in \u001b[0;36m<cell line: 1>\u001b[1;34m()\u001b[0m\n\u001b[1;32m----> 1\u001b[0m a \u001b[38;5;241m=\u001b[39m \u001b[38;5;124;43m'\u001b[39;49m\u001b[38;5;124;43mI have eaten\u001b[39;49m\u001b[38;5;124;43m'\u001b[39;49m\u001b[43m \u001b[49m\u001b[38;5;241;43m+\u001b[39;49m\u001b[43m \u001b[49m\u001b[38;5;241;43m99\u001b[39;49m \u001b[38;5;241m+\u001b[39m \u001b[38;5;124m'\u001b[39m\u001b[38;5;124mburritos\u001b[39m\u001b[38;5;124m'\u001b[39m\n\u001b[0;32m      2\u001b[0m a\n",
      "\u001b[1;31mTypeError\u001b[0m: can only concatenate str (not \"int\") to str"
     ]
    }
   ],
   "source": [
    "a = 'I have eaten' + 99 + 'burritos'\n",
    "a"
   ]
  },
  {
   "cell_type": "markdown",
   "id": "32bc0928",
   "metadata": {},
   "source": [
    "Ans : Because 99 is an integer it can not be concatenate with strings. If we want to concatenate it, first we have to convert 99 into string."
   ]
  },
  {
   "cell_type": "code",
   "execution_count": 24,
   "id": "54f80ce5",
   "metadata": {},
   "outputs": [
    {
     "data": {
      "text/plain": [
       "'I have eaten99burritos.'"
      ]
     },
     "execution_count": 24,
     "metadata": {},
     "output_type": "execute_result"
    }
   ],
   "source": [
    "#1.\n",
    "\n",
    "a  = 'I have eaten' + str(99) + 'burritos.'\n",
    "a"
   ]
  },
  {
   "cell_type": "code",
   "execution_count": 27,
   "id": "2b1aa4d9",
   "metadata": {},
   "outputs": [
    {
     "data": {
      "text/plain": [
       "'I have eaten99burritos.'"
      ]
     },
     "execution_count": 27,
     "metadata": {},
     "output_type": "execute_result"
    }
   ],
   "source": [
    "#2\n",
    "\n",
    "a  = 'I have eaten' + \"99\" + 'burritos.'\n",
    "a"
   ]
  },
  {
   "cell_type": "code",
   "execution_count": null,
   "id": "368b5d24",
   "metadata": {},
   "outputs": [],
   "source": []
  }
 ],
 "metadata": {
  "kernelspec": {
   "display_name": "ine",
   "language": "python",
   "name": "ine"
  },
  "language_info": {
   "codemirror_mode": {
    "name": "ipython",
    "version": 3
   },
   "file_extension": ".py",
   "mimetype": "text/x-python",
   "name": "python",
   "nbconvert_exporter": "python",
   "pygments_lexer": "ipython3",
   "version": "3.9.12"
  }
 },
 "nbformat": 4,
 "nbformat_minor": 5
}
