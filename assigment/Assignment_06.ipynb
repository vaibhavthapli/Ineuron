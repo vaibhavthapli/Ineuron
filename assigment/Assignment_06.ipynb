{
 "cells": [
  {
   "cell_type": "markdown",
   "id": "2326b4b4",
   "metadata": {},
   "source": [
    "Ans : 1"
   ]
  },
  {
   "cell_type": "markdown",
   "id": "5fd9a3e6",
   "metadata": {},
   "source": [
    "Escape characters represent characters in string values that would  be difficult or impossible to type into code. we can use the **backslash**(\\) character to escape a single character or symbol.\n",
    "\n",
    "**example** : \\t, \\n, \\r etc..."
   ]
  },
  {
   "cell_type": "code",
   "execution_count": null,
   "id": "6fbe6ce4",
   "metadata": {},
   "outputs": [],
   "source": []
  },
  {
   "cell_type": "markdown",
   "id": "39ae34bf",
   "metadata": {},
   "source": [
    "Ans : 2"
   ]
  },
  {
   "cell_type": "markdown",
   "id": "d66ae0a7",
   "metadata": {},
   "source": [
    "\\n : n is stands for new line.\n",
    "\n",
    "\\t : t stands for a tab"
   ]
  },
  {
   "cell_type": "code",
   "execution_count": 1,
   "id": "e4246246",
   "metadata": {},
   "outputs": [
    {
     "data": {
      "text/plain": [
       "'my name is vaibhav singh thapli,I am a student.'"
      ]
     },
     "execution_count": 1,
     "metadata": {},
     "output_type": "execute_result"
    }
   ],
   "source": [
    "a= \"my name is vaibhav singh thapli,I am a student.\"\n",
    "a"
   ]
  },
  {
   "cell_type": "code",
   "execution_count": 2,
   "id": "0124313e",
   "metadata": {},
   "outputs": [
    {
     "name": "stdout",
     "output_type": "stream",
     "text": [
      "my name is vaibhav singh thapli,\tI am a student.\n"
     ]
    }
   ],
   "source": [
    "print(\"my name is vaibhav singh thapli,\\tI am a student.\")"
   ]
  },
  {
   "cell_type": "code",
   "execution_count": 3,
   "id": "c3902947",
   "metadata": {},
   "outputs": [
    {
     "name": "stdout",
     "output_type": "stream",
     "text": [
      "my name is vaibhav singh thapli,\n",
      "I am a student.\n"
     ]
    }
   ],
   "source": [
    "print(\"my name is vaibhav singh thapli,\\nI am a student.\")"
   ]
  },
  {
   "cell_type": "code",
   "execution_count": null,
   "id": "ce9ee0d6",
   "metadata": {},
   "outputs": [],
   "source": []
  },
  {
   "cell_type": "markdown",
   "id": "eba21d99",
   "metadata": {},
   "source": [
    "Ans : 3"
   ]
  },
  {
   "cell_type": "code",
   "execution_count": null,
   "id": "9ce2dee2",
   "metadata": {},
   "outputs": [],
   "source": [
    "To include actual backslash we use \\\\ ."
   ]
  },
  {
   "cell_type": "code",
   "execution_count": 4,
   "id": "80efa136",
   "metadata": {},
   "outputs": [
    {
     "name": "stdout",
     "output_type": "stream",
     "text": [
      "my name is vaibhav singh thapli,\\ I am a student.\n"
     ]
    }
   ],
   "source": [
    "print(\"my name is vaibhav singh thapli,\\\\ I am a student.\")"
   ]
  },
  {
   "cell_type": "code",
   "execution_count": null,
   "id": "34abdc11",
   "metadata": {},
   "outputs": [],
   "source": []
  },
  {
   "cell_type": "markdown",
   "id": "248a2d1a",
   "metadata": {},
   "source": [
    "Ans  : 4"
   ]
  },
  {
   "cell_type": "markdown",
   "id": "218591a3",
   "metadata": {},
   "source": [
    "The string \"Howl's Moving Castle\" is a correct values because  it is wrapped inside double quotes."
   ]
  },
  {
   "cell_type": "code",
   "execution_count": null,
   "id": "e6e43613",
   "metadata": {},
   "outputs": [],
   "source": []
  },
  {
   "cell_type": "markdown",
   "id": "c02508c3",
   "metadata": {},
   "source": [
    "Ans : 5"
   ]
  },
  {
   "cell_type": "code",
   "execution_count": 5,
   "id": "089dfb5d",
   "metadata": {},
   "outputs": [
    {
     "name": "stdout",
     "output_type": "stream",
     "text": [
      "iNeuron full stack\n",
      "Data Science Course\n"
     ]
    }
   ],
   "source": [
    "# Example:\n",
    "a = '''iNeuron full stack\n",
    "Data Science Course'''\n",
    "print(a)"
   ]
  },
  {
   "cell_type": "code",
   "execution_count": null,
   "id": "b3983c0d",
   "metadata": {},
   "outputs": [],
   "source": []
  },
  {
   "cell_type": "markdown",
   "id": "b4b5e844",
   "metadata": {},
   "source": [
    "Ans : 6"
   ]
  },
  {
   "cell_type": "code",
   "execution_count": 6,
   "id": "4a5a5fbf",
   "metadata": {},
   "outputs": [
    {
     "data": {
      "text/plain": [
       "'e'"
      ]
     },
     "execution_count": 6,
     "metadata": {},
     "output_type": "execute_result"
    }
   ],
   "source": [
    "'Hello, world!'[1]"
   ]
  },
  {
   "cell_type": "code",
   "execution_count": 7,
   "id": "1d331b12",
   "metadata": {},
   "outputs": [
    {
     "data": {
      "text/plain": [
       "'Hello'"
      ]
     },
     "execution_count": 7,
     "metadata": {},
     "output_type": "execute_result"
    }
   ],
   "source": [
    "'Hello, world!'[0:5]"
   ]
  },
  {
   "cell_type": "code",
   "execution_count": 8,
   "id": "8ada4a9d",
   "metadata": {},
   "outputs": [
    {
     "data": {
      "text/plain": [
       "'Hello'"
      ]
     },
     "execution_count": 8,
     "metadata": {},
     "output_type": "execute_result"
    }
   ],
   "source": [
    "'Hello, world!'[:5]"
   ]
  },
  {
   "cell_type": "code",
   "execution_count": 9,
   "id": "651954aa",
   "metadata": {},
   "outputs": [
    {
     "data": {
      "text/plain": [
       "'lo, world!'"
      ]
     },
     "execution_count": 9,
     "metadata": {},
     "output_type": "execute_result"
    }
   ],
   "source": [
    "'Hello, world!'[3:]"
   ]
  },
  {
   "cell_type": "code",
   "execution_count": null,
   "id": "9e031e96",
   "metadata": {},
   "outputs": [],
   "source": [
    "The values for the given expressions are:\n",
    "'Hello, world!'[1] -> 'e'\n",
    "'Hello, world!'[0:5] -> 'Hello'\n",
    "'Hello, world!'[:5] -> 'Hello\n",
    "'Hello, world!'[3:] -> 'lo, world!'"
   ]
  },
  {
   "cell_type": "code",
   "execution_count": null,
   "id": "5ed50614",
   "metadata": {},
   "outputs": [],
   "source": []
  },
  {
   "cell_type": "markdown",
   "id": "89291e93",
   "metadata": {},
   "source": [
    "Ans : 7"
   ]
  },
  {
   "cell_type": "code",
   "execution_count": 10,
   "id": "b8760be4",
   "metadata": {},
   "outputs": [
    {
     "name": "stdout",
     "output_type": "stream",
     "text": [
      "HELLO\n",
      "True\n",
      "hello\n"
     ]
    }
   ],
   "source": [
    "print('Hello'.upper())\n",
    "print('Hello'.upper().isupper())\n",
    "print('Hello'.upper().lower())"
   ]
  },
  {
   "cell_type": "code",
   "execution_count": null,
   "id": "22d11d60",
   "metadata": {},
   "outputs": [],
   "source": [
    "The values for the given expressions are:\n",
    "'Hello'.upper() -> 'HELLO'\n",
    "'Hello'.upper().isupper() -> True\n",
    "'Hello'.upper().lower() -> 'hello'"
   ]
  },
  {
   "cell_type": "code",
   "execution_count": null,
   "id": "58d5669a",
   "metadata": {},
   "outputs": [],
   "source": []
  },
  {
   "cell_type": "markdown",
   "id": "6a5cde7d",
   "metadata": {},
   "source": [
    "Ans : 8"
   ]
  },
  {
   "cell_type": "code",
   "execution_count": 11,
   "id": "6d5fd4f3",
   "metadata": {},
   "outputs": [
    {
     "data": {
      "text/plain": [
       "['Remember,', 'remember,', 'the', 'fifith', 'of', 'July.']"
      ]
     },
     "execution_count": 11,
     "metadata": {},
     "output_type": "execute_result"
    }
   ],
   "source": [
    "'Remember, remember, the fifith of July.'.split()"
   ]
  },
  {
   "cell_type": "code",
   "execution_count": 14,
   "id": "7b2b2b53",
   "metadata": {},
   "outputs": [
    {
     "data": {
      "text/plain": [
       "'There-can-only-one'"
      ]
     },
     "execution_count": 14,
     "metadata": {},
     "output_type": "execute_result"
    }
   ],
   "source": [
    "'-'.join('There can only one'.split())"
   ]
  },
  {
   "cell_type": "code",
   "execution_count": null,
   "id": "aa83d969",
   "metadata": {},
   "outputs": [],
   "source": []
  },
  {
   "cell_type": "markdown",
   "id": "8dffc00c",
   "metadata": {},
   "source": [
    "Ans : 9"
   ]
  },
  {
   "cell_type": "markdown",
   "id": "515996e1",
   "metadata": {},
   "source": [
    "The rjust(), ljust(), center() string methods, respectively"
   ]
  },
  {
   "cell_type": "code",
   "execution_count": null,
   "id": "9509fb32",
   "metadata": {},
   "outputs": [],
   "source": []
  },
  {
   "cell_type": "markdown",
   "id": "f5a4596a",
   "metadata": {},
   "source": [
    "Ans :10\n"
   ]
  },
  {
   "cell_type": "code",
   "execution_count": 21,
   "id": "f1259050",
   "metadata": {},
   "outputs": [
    {
     "data": {
      "text/plain": [
       "'helloworld'"
      ]
     },
     "execution_count": 21,
     "metadata": {},
     "output_type": "execute_result"
    }
   ],
   "source": [
    "string = \"  hello world  \"\n",
    "string.replace(\" \",\"\")"
   ]
  },
  {
   "cell_type": "code",
   "execution_count": null,
   "id": "3155be7b",
   "metadata": {},
   "outputs": [],
   "source": []
  }
 ],
 "metadata": {
  "kernelspec": {
   "display_name": "ine",
   "language": "python",
   "name": "ine"
  },
  "language_info": {
   "codemirror_mode": {
    "name": "ipython",
    "version": 3
   },
   "file_extension": ".py",
   "mimetype": "text/x-python",
   "name": "python",
   "nbconvert_exporter": "python",
   "pygments_lexer": "ipython3",
   "version": "3.10.5"
  }
 },
 "nbformat": 4,
 "nbformat_minor": 5
}
