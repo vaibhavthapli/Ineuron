{
 "cells": [
  {
   "cell_type": "markdown",
   "id": "96f4ec58",
   "metadata": {},
   "source": [
    "Ans : 1"
   ]
  },
  {
   "cell_type": "code",
   "execution_count": 2,
   "id": "c8d363ce",
   "metadata": {},
   "outputs": [
    {
     "name": "stdout",
     "output_type": "stream",
     "text": [
      "Enter no of kilometers : 2\n",
      "2.0 km is Equal to 1.242 miles\n"
     ]
    }
   ],
   "source": [
    "def kmToMiles():\n",
    "    kiloMeters = float(input(\"Enter no of kilometers : \"))\n",
    "    print(\"{} km is Equal to {} miles\".format(kiloMeters,kiloMeters*0.621))\n",
    "\n",
    "kmToMiles()"
   ]
  },
  {
   "cell_type": "code",
   "execution_count": null,
   "id": "de21b465",
   "metadata": {},
   "outputs": [],
   "source": []
  },
  {
   "cell_type": "markdown",
   "id": "eee9a32e",
   "metadata": {},
   "source": [
    "Ans : 2"
   ]
  },
  {
   "cell_type": "code",
   "execution_count": 4,
   "id": "32e3c747",
   "metadata": {},
   "outputs": [
    {
     "name": "stdout",
     "output_type": "stream",
     "text": [
      "Enter temperature in celsius : 200\n",
      "200° Celsius is Equal to 392.0° Farenheit\n"
     ]
    }
   ],
   "source": [
    "def celToFarh():\n",
    "    celsius = int(input(\"Enter temperature in celsius : \"))\n",
    "    Farenheit = (celsius*(9/5))+32\n",
    "    print(\"{}° Celsius is Equal to {}° Farenheit\".format(celsius,Farenheit))\n",
    "    \n",
    "celToFarh()"
   ]
  },
  {
   "cell_type": "code",
   "execution_count": null,
   "id": "6b8254c4",
   "metadata": {},
   "outputs": [],
   "source": []
  },
  {
   "cell_type": "markdown",
   "id": "5f4df7c6",
   "metadata": {},
   "source": [
    "Ans : 3"
   ]
  },
  {
   "cell_type": "code",
   "execution_count": 9,
   "id": "b81db61d",
   "metadata": {},
   "outputs": [
    {
     "name": "stdout",
     "output_type": "stream",
     "text": [
      "Enter a month number which you want to see: 1\n",
      "Enter the year: 1997\n",
      "    January 1997\n",
      "Mo Tu We Th Fr Sa Su\n",
      "       1  2  3  4  5\n",
      " 6  7  8  9 10 11 12\n",
      "13 14 15 16 17 18 19\n",
      "20 21 22 23 24 25 26\n",
      "27 28 29 30 31\n",
      "\n"
     ]
    }
   ],
   "source": [
    "# a specific month\n",
    "import calendar\n",
    "month = int(input(\"Enter a month number which you want to see: \"))\n",
    "year = int(input(\"Enter the year: \"))\n",
    "\n",
    "def showCalendar(year,month):\n",
    "    print(calendar.month(year,month))\n",
    "showCalendar(year,month)"
   ]
  },
  {
   "cell_type": "markdown",
   "id": "cc36e586",
   "metadata": {},
   "source": [
    "or"
   ]
  },
  {
   "cell_type": "code",
   "execution_count": 15,
   "id": "871de86d",
   "metadata": {},
   "outputs": [],
   "source": [
    "# a whole year\n",
    "import calendar\n",
    "\n",
    "def showCalendar2(year):\n",
    "    year = int(input(\"Enter the year: \"))\n",
    "    print(calendar.calendar(year))\n",
    "    "
   ]
  },
  {
   "cell_type": "code",
   "execution_count": 16,
   "id": "c026028a",
   "metadata": {},
   "outputs": [
    {
     "name": "stdout",
     "output_type": "stream",
     "text": [
      "Enter the year: 1997\n",
      "                                  1997\n",
      "\n",
      "      January                   February                   March\n",
      "Mo Tu We Th Fr Sa Su      Mo Tu We Th Fr Sa Su      Mo Tu We Th Fr Sa Su\n",
      "       1  2  3  4  5                      1  2                      1  2\n",
      " 6  7  8  9 10 11 12       3  4  5  6  7  8  9       3  4  5  6  7  8  9\n",
      "13 14 15 16 17 18 19      10 11 12 13 14 15 16      10 11 12 13 14 15 16\n",
      "20 21 22 23 24 25 26      17 18 19 20 21 22 23      17 18 19 20 21 22 23\n",
      "27 28 29 30 31            24 25 26 27 28            24 25 26 27 28 29 30\n",
      "                                                    31\n",
      "\n",
      "       April                      May                       June\n",
      "Mo Tu We Th Fr Sa Su      Mo Tu We Th Fr Sa Su      Mo Tu We Th Fr Sa Su\n",
      "    1  2  3  4  5  6                1  2  3  4                         1\n",
      " 7  8  9 10 11 12 13       5  6  7  8  9 10 11       2  3  4  5  6  7  8\n",
      "14 15 16 17 18 19 20      12 13 14 15 16 17 18       9 10 11 12 13 14 15\n",
      "21 22 23 24 25 26 27      19 20 21 22 23 24 25      16 17 18 19 20 21 22\n",
      "28 29 30                  26 27 28 29 30 31         23 24 25 26 27 28 29\n",
      "                                                    30\n",
      "\n",
      "        July                     August                  September\n",
      "Mo Tu We Th Fr Sa Su      Mo Tu We Th Fr Sa Su      Mo Tu We Th Fr Sa Su\n",
      "    1  2  3  4  5  6                   1  2  3       1  2  3  4  5  6  7\n",
      " 7  8  9 10 11 12 13       4  5  6  7  8  9 10       8  9 10 11 12 13 14\n",
      "14 15 16 17 18 19 20      11 12 13 14 15 16 17      15 16 17 18 19 20 21\n",
      "21 22 23 24 25 26 27      18 19 20 21 22 23 24      22 23 24 25 26 27 28\n",
      "28 29 30 31               25 26 27 28 29 30 31      29 30\n",
      "\n",
      "      October                   November                  December\n",
      "Mo Tu We Th Fr Sa Su      Mo Tu We Th Fr Sa Su      Mo Tu We Th Fr Sa Su\n",
      "       1  2  3  4  5                      1  2       1  2  3  4  5  6  7\n",
      " 6  7  8  9 10 11 12       3  4  5  6  7  8  9       8  9 10 11 12 13 14\n",
      "13 14 15 16 17 18 19      10 11 12 13 14 15 16      15 16 17 18 19 20 21\n",
      "20 21 22 23 24 25 26      17 18 19 20 21 22 23      22 23 24 25 26 27 28\n",
      "27 28 29 30 31            24 25 26 27 28 29 30      29 30 31\n",
      "\n"
     ]
    }
   ],
   "source": [
    "showCalendar2(year)"
   ]
  },
  {
   "cell_type": "code",
   "execution_count": null,
   "id": "ee549abf",
   "metadata": {},
   "outputs": [],
   "source": []
  },
  {
   "cell_type": "markdown",
   "id": "20b90040",
   "metadata": {},
   "source": [
    "Ans : 4"
   ]
  },
  {
   "cell_type": "code",
   "execution_count": 21,
   "id": "0e4a0e8c",
   "metadata": {},
   "outputs": [
    {
     "name": "stdout",
     "output_type": "stream",
     "text": [
      "Insert coefficient a: 1\n",
      "Insert coefficient b: 2\n",
      "Insert coefficient c: 1\n",
      "The function has one double root:  -1.0\n"
     ]
    }
   ],
   "source": [
    "import math\n",
    " \n",
    "a = float(input(\"Insert coefficient a: \"))\n",
    "b = float(input(\"Insert coefficient b: \"))\n",
    "c = float(input(\"Insert coefficient c: \"))\n",
    " \n",
    "discriminant = b**2 - 4 * a * c\n",
    " \n",
    "if discriminant >= 0:\n",
    "    x_1=(-b+math.sqrt(discriminant))/2*a\n",
    "    x_2=(-b-math.sqrt(discriminant))/2*a\n",
    "else:\n",
    "    x_1= complex((-b/(2*a)),math.sqrt(-discriminant)/(2*a))\n",
    "    x_2= complex((-b/(2*a)),-math.sqrt(-discriminant)/(2*a))\n",
    "    \n",
    "if discriminant > 0:\n",
    "    print(\"The function has two distinct real roots: {} and {}\".format(x_1,x_2))\n",
    "elif discriminant == 0:\n",
    "    print(\"The function has one double root: \", x_1)\n",
    "else:\n",
    "    print(\"The function has two complex (conjugate) roots: {}  and {}\".format(x_1,x_2))\n"
   ]
  },
  {
   "cell_type": "code",
   "execution_count": null,
   "id": "d121d4af",
   "metadata": {},
   "outputs": [],
   "source": []
  },
  {
   "cell_type": "markdown",
   "id": "a43f3817",
   "metadata": {},
   "source": [
    "Ans : 5"
   ]
  },
  {
   "cell_type": "code",
   "execution_count": 23,
   "id": "06ad2b6c",
   "metadata": {},
   "outputs": [
    {
     "name": "stdout",
     "output_type": "stream",
     "text": [
      "Enter variable_1: 8\n",
      "Enter variable_2: 4\n",
      "before swapping a = 8 and b = 4\n",
      "after swapping a = 4 and b = 8\n"
     ]
    }
   ],
   "source": [
    "a = int(input(\"Enter variable_1: \"))\n",
    "b = int(input(\"Enter variable_2: \"))\n",
    "\n",
    "print('before swapping a = {} and b = {}'.format(a,b))\n",
    "\n",
    "a,b = b,a\n",
    "\n",
    "print('after swapping a = {} and b = {}'.format(a,b))"
   ]
  },
  {
   "cell_type": "code",
   "execution_count": null,
   "id": "363130cd",
   "metadata": {},
   "outputs": [],
   "source": []
  }
 ],
 "metadata": {
  "kernelspec": {
   "display_name": "ine",
   "language": "python",
   "name": "ine"
  },
  "language_info": {
   "codemirror_mode": {
    "name": "ipython",
    "version": 3
   },
   "file_extension": ".py",
   "mimetype": "text/x-python",
   "name": "python",
   "nbconvert_exporter": "python",
   "pygments_lexer": "ipython3",
   "version": "3.10.5"
  }
 },
 "nbformat": 4,
 "nbformat_minor": 5
}
