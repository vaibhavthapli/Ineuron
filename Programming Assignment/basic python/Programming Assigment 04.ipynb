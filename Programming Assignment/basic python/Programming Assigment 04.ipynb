{
 "cells": [
  {
   "cell_type": "markdown",
   "id": "0d7c1661",
   "metadata": {},
   "source": [
    "Ans : 1"
   ]
  },
  {
   "cell_type": "code",
   "execution_count": 1,
   "id": "e125bfe8",
   "metadata": {},
   "outputs": [],
   "source": [
    "def factorialNumber():\n",
    "    factorial = 1\n",
    "    num = int(input(\"Enter a number: \"))\n",
    "    if num < 1:\n",
    "        return 1\n",
    "    else:\n",
    "        for i in range(1,num+1):\n",
    "            factorial = factorial*i\n",
    "        return(\"Factorial of {} is {}\".format(num, factorial))"
   ]
  },
  {
   "cell_type": "code",
   "execution_count": 2,
   "id": "f07df46f",
   "metadata": {},
   "outputs": [
    {
     "name": "stdout",
     "output_type": "stream",
     "text": [
      "Enter a number: 5\n"
     ]
    },
    {
     "data": {
      "text/plain": [
       "'Factorial of 5 is 120'"
      ]
     },
     "execution_count": 2,
     "metadata": {},
     "output_type": "execute_result"
    }
   ],
   "source": [
    "factorialNumber()"
   ]
  },
  {
   "cell_type": "code",
   "execution_count": null,
   "id": "56fa3271",
   "metadata": {},
   "outputs": [],
   "source": []
  },
  {
   "cell_type": "markdown",
   "id": "13221135",
   "metadata": {},
   "source": [
    "Ans: 2"
   ]
  },
  {
   "cell_type": "code",
   "execution_count": 12,
   "id": "5b35d6f8",
   "metadata": {},
   "outputs": [
    {
     "name": "stdout",
     "output_type": "stream",
     "text": [
      "Enter a number: 5\n",
      "Enter number of entries: 10\n",
      "5 X 1 = 5\n",
      "5 X 2 = 10\n",
      "5 X 3 = 15\n",
      "5 X 4 = 20\n",
      "5 X 5 = 25\n",
      "5 X 6 = 30\n",
      "5 X 7 = 35\n",
      "5 X 8 = 40\n",
      "5 X 9 = 45\n",
      "5 X 10 = 50\n"
     ]
    }
   ],
   "source": [
    "def table(base,entries):\n",
    "    for i in range(1,entries+1):\n",
    "        print(f'{base} X {i} = {base*i}')\n",
    "        \n",
    "num = int(input('Enter a number: '))\n",
    "values = int(input('Enter number of entries: '))\n",
    "    \n",
    "table(num,values)"
   ]
  },
  {
   "cell_type": "code",
   "execution_count": null,
   "id": "b2c90127",
   "metadata": {},
   "outputs": [],
   "source": []
  },
  {
   "cell_type": "markdown",
   "id": "d101fc39",
   "metadata": {},
   "source": [
    "Ans: 3"
   ]
  },
  {
   "cell_type": "code",
   "execution_count": 13,
   "id": "c18eb88e",
   "metadata": {},
   "outputs": [],
   "source": [
    "def genfib():\n",
    "    a=1\n",
    "    b=1\n",
    "    l=[]\n",
    "    n = int(input(\"Enter the no of fibonacci sequences you want?: \"))\n",
    "    for i in range(n):\n",
    "        l.append(a)\n",
    "        a,b = b, a+b\n",
    "    return l"
   ]
  },
  {
   "cell_type": "code",
   "execution_count": 14,
   "id": "bc15c053",
   "metadata": {},
   "outputs": [
    {
     "name": "stdout",
     "output_type": "stream",
     "text": [
      "Enter the no of fibonacci sequences you want?: 10\n"
     ]
    },
    {
     "data": {
      "text/plain": [
       "[1, 1, 2, 3, 5, 8, 13, 21, 34, 55]"
      ]
     },
     "execution_count": 14,
     "metadata": {},
     "output_type": "execute_result"
    }
   ],
   "source": [
    "genfib()"
   ]
  },
  {
   "cell_type": "code",
   "execution_count": null,
   "id": "de418c3f",
   "metadata": {},
   "outputs": [],
   "source": []
  },
  {
   "cell_type": "markdown",
   "id": "d9704397",
   "metadata": {},
   "source": [
    "Ans: 4"
   ]
  },
  {
   "cell_type": "code",
   "execution_count": 17,
   "id": "32796d55",
   "metadata": {},
   "outputs": [
    {
     "name": "stdout",
     "output_type": "stream",
     "text": [
      "Enter number to check: 153\n",
      "its armstrong number\n"
     ]
    }
   ],
   "source": [
    "num = int(input(\"Enter number to check: \"))\n",
    "rem = 0\n",
    "s = 0\n",
    "temp = num\n",
    "while temp>0:\n",
    "    rem = temp%10\n",
    "    s = s + rem**3\n",
    "    temp = temp//10\n",
    "if num==s:\n",
    "    print(\"its armstrong number\")\n",
    "else:\n",
    "    print(\"not armstrong number\")"
   ]
  },
  {
   "cell_type": "code",
   "execution_count": null,
   "id": "7635b268",
   "metadata": {},
   "outputs": [],
   "source": []
  },
  {
   "cell_type": "markdown",
   "id": "d9903605",
   "metadata": {},
   "source": [
    "Ans: 5"
   ]
  },
  {
   "cell_type": "code",
   "execution_count": 29,
   "id": "809df906",
   "metadata": {},
   "outputs": [
    {
     "name": "stdout",
     "output_type": "stream",
     "text": [
      "Enter lower limit of interval: 100\n",
      "Enter upper limit of interval: 2000\n",
      "153\n",
      "370\n",
      "371\n",
      "407\n",
      "1634\n"
     ]
    }
   ],
   "source": [
    "lower = int(input(\"Enter lower limit of interval: \"))\n",
    "upper = int(input(\"Enter upper limit of interval: \"))\n",
    "for num in range(lower, upper + 1):\n",
    "    order = len(str(num))\n",
    "    # initialize sum\n",
    "    sum = 0\n",
    "    temp = num\n",
    "    while temp > 0:\n",
    "        digit = temp % 10\n",
    "        sum += digit ** order\n",
    "        temp //= 10\n",
    "\n",
    "    if num == sum:\n",
    "        print( num)"
   ]
  },
  {
   "cell_type": "code",
   "execution_count": null,
   "id": "9ebb88c3",
   "metadata": {},
   "outputs": [],
   "source": []
  },
  {
   "cell_type": "markdown",
   "id": "e9061b90",
   "metadata": {},
   "source": [
    "Ans : 6"
   ]
  },
  {
   "cell_type": "code",
   "execution_count": 32,
   "id": "62bb7ef3",
   "metadata": {},
   "outputs": [],
   "source": [
    "def sumOfNaturalNumbers():\n",
    "    num = int(input('Enter a number: '))\n",
    "    sum = num*((num+1)/2)\n",
    "    print(f'Sum of {num} natural numbers is {sum}')\n",
    "    "
   ]
  },
  {
   "cell_type": "code",
   "execution_count": 33,
   "id": "e1a0b34d",
   "metadata": {},
   "outputs": [
    {
     "name": "stdout",
     "output_type": "stream",
     "text": [
      "Enter a number: 100\n",
      "Sum of 100 natural numbers is 5050.0\n"
     ]
    }
   ],
   "source": [
    "sumOfNaturalNumbers()"
   ]
  },
  {
   "cell_type": "code",
   "execution_count": 34,
   "id": "11e6376b",
   "metadata": {},
   "outputs": [
    {
     "name": "stdout",
     "output_type": "stream",
     "text": [
      "Enter a number: 10\n",
      "Sum of 10 natural numbers is 55.0\n"
     ]
    }
   ],
   "source": [
    "sumOfNaturalNumbers()"
   ]
  },
  {
   "cell_type": "code",
   "execution_count": null,
   "id": "09099e6d",
   "metadata": {},
   "outputs": [],
   "source": []
  }
 ],
 "metadata": {
  "kernelspec": {
   "display_name": "ine",
   "language": "python",
   "name": "ine"
  },
  "language_info": {
   "codemirror_mode": {
    "name": "ipython",
    "version": 3
   },
   "file_extension": ".py",
   "mimetype": "text/x-python",
   "name": "python",
   "nbconvert_exporter": "python",
   "pygments_lexer": "ipython3",
   "version": "3.10.5"
  }
 },
 "nbformat": 4,
 "nbformat_minor": 5
}
