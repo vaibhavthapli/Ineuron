{
 "cells": [
  {
   "cell_type": "markdown",
   "id": "628c12a0",
   "metadata": {},
   "source": [
    "Ans : 1"
   ]
  },
  {
   "cell_type": "code",
   "execution_count": 1,
   "id": "8a580b64",
   "metadata": {},
   "outputs": [
    {
     "name": "stdout",
     "output_type": "stream",
     "text": [
      "Hello World\n"
     ]
    }
   ],
   "source": [
    "print(\"Hello World\")"
   ]
  },
  {
   "cell_type": "code",
   "execution_count": null,
   "id": "0a50cf41",
   "metadata": {},
   "outputs": [],
   "source": []
  },
  {
   "cell_type": "markdown",
   "id": "5b47742d",
   "metadata": {},
   "source": [
    "Ans : 2"
   ]
  },
  {
   "cell_type": "code",
   "execution_count": 5,
   "id": "5fe53124",
   "metadata": {},
   "outputs": [
    {
     "name": "stdout",
     "output_type": "stream",
     "text": [
      "Enter number 1: 1\n",
      "Enter number 2: 2\n",
      "Enter a arithmetic operation addition or division: %\n"
     ]
    },
    {
     "data": {
      "text/plain": [
       "('Division is ', 0.5)"
      ]
     },
     "execution_count": 5,
     "metadata": {},
     "output_type": "execute_result"
    }
   ],
   "source": [
    "a = int(input(\"Enter number 1: \"))\n",
    "b = int(input(\"Enter number 2: \"))\n",
    "\n",
    "ops = input(\"Enter a arithmetic operation addition or division: \")\n",
    "def arith(a,b):\n",
    "    if ops == \"addition\" or ops == \"+\" :\n",
    "        c = a+b\n",
    "        return(\"addition is \",c)\n",
    "    elif ops == \"division\" or  ops == \"%\":\n",
    "        d = a/b\n",
    "        return(\"Division is \",d)\n",
    "    else:\n",
    "        return(\"Enter correct operation\")\n",
    "arith(a,b)  "
   ]
  },
  {
   "cell_type": "code",
   "execution_count": null,
   "id": "bd039eae",
   "metadata": {},
   "outputs": [],
   "source": []
  },
  {
   "cell_type": "markdown",
   "id": "c7a3ff25",
   "metadata": {},
   "source": [
    "Ans : 3"
   ]
  },
  {
   "cell_type": "code",
   "execution_count": 18,
   "id": "88365796",
   "metadata": {},
   "outputs": [
    {
     "name": "stdout",
     "output_type": "stream",
     "text": [
      "Enter height: 100\n",
      "Enter base: 50\n"
     ]
    }
   ],
   "source": [
    "a = int(input(\"Enter height: \"))\n",
    "b = int(input(\"Enter base: \"))\n",
    "area = lambda a,b : (a*b)/2"
   ]
  },
  {
   "cell_type": "code",
   "execution_count": 19,
   "id": "12af1cbe",
   "metadata": {},
   "outputs": [
    {
     "name": "stdout",
     "output_type": "stream",
     "text": [
      "area of triangle:  2500.0\n"
     ]
    }
   ],
   "source": [
    "print(\"area of triangle: \", area(a,b))"
   ]
  },
  {
   "cell_type": "markdown",
   "id": "42eae015",
   "metadata": {},
   "source": [
    "or"
   ]
  },
  {
   "cell_type": "code",
   "execution_count": 20,
   "id": "4f30a6b6",
   "metadata": {},
   "outputs": [
    {
     "name": "stdout",
     "output_type": "stream",
     "text": [
      "Enter height: 100\n",
      "Enter base: 50\n"
     ]
    },
    {
     "data": {
      "text/plain": [
       "2500.0"
      ]
     },
     "execution_count": 20,
     "metadata": {},
     "output_type": "execute_result"
    }
   ],
   "source": [
    "a = int(input(\"Enter height: \"))\n",
    "b = int(input(\"Enter base: \"))\n",
    "\n",
    "def area_of_triangle(a,b):\n",
    "    area = (a*b)/2\n",
    "    return area\n",
    "area_of_triangle(a,b)"
   ]
  },
  {
   "cell_type": "code",
   "execution_count": 24,
   "id": "6d60521f",
   "metadata": {},
   "outputs": [
    {
     "data": {
      "text/plain": [
       "15.0"
      ]
     },
     "execution_count": 24,
     "metadata": {},
     "output_type": "execute_result"
    }
   ],
   "source": [
    "area_of_triangle(5,6)"
   ]
  },
  {
   "cell_type": "code",
   "execution_count": null,
   "id": "128f4ef7",
   "metadata": {},
   "outputs": [],
   "source": []
  },
  {
   "cell_type": "markdown",
   "id": "e615dec1",
   "metadata": {},
   "source": [
    "Ans : 4"
   ]
  },
  {
   "cell_type": "code",
   "execution_count": 25,
   "id": "158c5873",
   "metadata": {},
   "outputs": [],
   "source": [
    "a = 5\n",
    "b =6\n",
    "\n",
    "a,b =b,a"
   ]
  },
  {
   "cell_type": "code",
   "execution_count": 26,
   "id": "6942f389",
   "metadata": {},
   "outputs": [
    {
     "data": {
      "text/plain": [
       "6"
      ]
     },
     "execution_count": 26,
     "metadata": {},
     "output_type": "execute_result"
    }
   ],
   "source": [
    "a"
   ]
  },
  {
   "cell_type": "code",
   "execution_count": 27,
   "id": "605180ab",
   "metadata": {},
   "outputs": [
    {
     "data": {
      "text/plain": [
       "5"
      ]
     },
     "execution_count": 27,
     "metadata": {},
     "output_type": "execute_result"
    }
   ],
   "source": [
    "b"
   ]
  },
  {
   "cell_type": "markdown",
   "id": "43cb93ab",
   "metadata": {},
   "source": [
    "or"
   ]
  },
  {
   "cell_type": "code",
   "execution_count": 28,
   "id": "4143e194",
   "metadata": {},
   "outputs": [
    {
     "name": "stdout",
     "output_type": "stream",
     "text": [
      "Enter First Number: 5\n",
      "Enter Second Number: 6\n",
      "Before swapping ->  5 6\n",
      "After swapping ->  6 5\n"
     ]
    }
   ],
   "source": [
    "num_1 = int(input(\"Enter First Number: \"))\n",
    "num_2 = int(input(\"Enter Second Number: \"))\n",
    "\n",
    "def swapNumbers(a,b):\n",
    "    temp = a\n",
    "    a = b\n",
    "    b = temp\n",
    "    return a,b\n",
    "\n",
    "print('Before swapping -> ',num_1, num_2)\n",
    "num_1, num_2 = swapNumbers(num_1, num_2)\n",
    "print('After swapping -> ',num_1,num_2)"
   ]
  },
  {
   "cell_type": "code",
   "execution_count": null,
   "id": "8ede3bee",
   "metadata": {},
   "outputs": [],
   "source": []
  },
  {
   "cell_type": "markdown",
   "id": "7f06faa0",
   "metadata": {},
   "source": [
    "Ans : 5"
   ]
  },
  {
   "cell_type": "code",
   "execution_count": 29,
   "id": "e8dc66bb",
   "metadata": {},
   "outputs": [
    {
     "name": "stdout",
     "output_type": "stream",
     "text": [
      "0.25965833704326324\n"
     ]
    }
   ],
   "source": [
    "import random\n",
    "rndno = random.random()\n",
    "print(rndno)"
   ]
  },
  {
   "cell_type": "markdown",
   "id": "1b373e3b",
   "metadata": {},
   "source": [
    "or"
   ]
  },
  {
   "cell_type": "code",
   "execution_count": 41,
   "id": "3de0d544",
   "metadata": {},
   "outputs": [
    {
     "data": {
      "text/plain": [
       "82"
      ]
     },
     "execution_count": 41,
     "metadata": {},
     "output_type": "execute_result"
    }
   ],
   "source": [
    "#random number in range\n",
    "from random import randint\n",
    "\n",
    "def generateRandomNumber(start, end):\n",
    "    return randint(start,end)\n",
    "\n",
    "generateRandomNumber(0,100)"
   ]
  },
  {
   "cell_type": "code",
   "execution_count": 42,
   "id": "4ab72bc4",
   "metadata": {},
   "outputs": [
    {
     "name": "stdout",
     "output_type": "stream",
     "text": [
      "Random number ->  76\n"
     ]
    }
   ],
   "source": [
    "print('Random number -> ',generateRandomNumber(0,100))"
   ]
  },
  {
   "cell_type": "code",
   "execution_count": null,
   "id": "12bed39b",
   "metadata": {},
   "outputs": [],
   "source": []
  },
  {
   "cell_type": "code",
   "execution_count": null,
   "id": "30fbf6da",
   "metadata": {},
   "outputs": [],
   "source": []
  }
 ],
 "metadata": {
  "kernelspec": {
   "display_name": "ine",
   "language": "python",
   "name": "ine"
  },
  "language_info": {
   "codemirror_mode": {
    "name": "ipython",
    "version": 3
   },
   "file_extension": ".py",
   "mimetype": "text/x-python",
   "name": "python",
   "nbconvert_exporter": "python",
   "pygments_lexer": "ipython3",
   "version": "3.10.5"
  }
 },
 "nbformat": 4,
 "nbformat_minor": 5
}
