{
 "cells": [
  {
   "cell_type": "markdown",
   "id": "7550fac8",
   "metadata": {},
   "source": [
    "Ans: 1"
   ]
  },
  {
   "cell_type": "code",
   "execution_count": 2,
   "id": "a959c41a",
   "metadata": {},
   "outputs": [
    {
     "name": "stdout",
     "output_type": "stream",
     "text": [
      "The LCM of 3,6 is 6\n",
      "The LCM of 5,2 is 10\n",
      "The LCM of 5,100 is 100\n",
      "The LCM of 5,6 is 30\n"
     ]
    }
   ],
   "source": [
    "def findTheLcm(num_1,num_2):\n",
    "    if num_1 > num_2:\n",
    "        greater = num_1\n",
    "    else:\n",
    "        greater = num_1\n",
    "    while True:\n",
    "        if((greater%num_1 == 0) and (greater%num_2 == 0)):\n",
    "            lcm = greater\n",
    "            break\n",
    "        else:\n",
    "            greater +=1\n",
    "    print(f'The LCM of {num_1},{num_2} is {lcm}')\n",
    "\n",
    "findTheLcm(3,6)\n",
    "findTheLcm(5,2)\n",
    "findTheLcm(5,100)\n",
    "findTheLcm(5,6)"
   ]
  },
  {
   "cell_type": "code",
   "execution_count": null,
   "id": "60fa5938",
   "metadata": {},
   "outputs": [],
   "source": []
  },
  {
   "cell_type": "markdown",
   "id": "e0dd51b7",
   "metadata": {},
   "source": [
    "Ans : 2"
   ]
  },
  {
   "cell_type": "code",
   "execution_count": 5,
   "id": "c2b811c1",
   "metadata": {},
   "outputs": [
    {
     "name": "stdout",
     "output_type": "stream",
     "text": [
      "The HCF of 6,12 is 6\n",
      "The HCF of 2,3 is 1\n",
      "The HCF of 10,23 is 1\n",
      "The HCF of 12,284 is 4\n"
     ]
    }
   ],
   "source": [
    "def findTheHcf(num_1,num_2):\n",
    "    if num_1>num_2:\n",
    "        smaller = num_2\n",
    "    else:\n",
    "        smaller = num_1\n",
    "    for i in range(1,smaller+1):\n",
    "        if((num_1%i == 0) and (num_2%i == 0)):\n",
    "            hcf = i\n",
    "    print(f'The HCF of {num_1},{num_2} is {hcf}')\n",
    "\n",
    "findTheHcf(6,12)\n",
    "findTheHcf(2,3)\n",
    "findTheHcf(10,23)\n",
    "findTheHcf(12,284)"
   ]
  },
  {
   "cell_type": "code",
   "execution_count": null,
   "id": "a9198b15",
   "metadata": {},
   "outputs": [],
   "source": []
  },
  {
   "cell_type": "markdown",
   "id": "cd12bc15",
   "metadata": {},
   "source": [
    "Ans: 3"
   ]
  },
  {
   "cell_type": "code",
   "execution_count": 7,
   "id": "c5877fac",
   "metadata": {},
   "outputs": [
    {
     "name": "stdout",
     "output_type": "stream",
     "text": [
      "Enter a Number: 2345\n",
      "Binary Number -> 0b100100101001\n",
      "Octal Number -> 0o4451\n",
      "Hexadecimal Number -> 0x929\n"
     ]
    }
   ],
   "source": [
    "def DecimalToOther():\n",
    "    num = int(input('Enter a Number: '))\n",
    "    print(f'Binary Number -> {bin(num)}')\n",
    "    print(f'Octal Number -> {oct(num)}')    \n",
    "    print(f'Hexadecimal Number -> {hex(num)}')    \n",
    "\n",
    "DecimalToOther()"
   ]
  },
  {
   "cell_type": "code",
   "execution_count": null,
   "id": "d5043191",
   "metadata": {},
   "outputs": [],
   "source": []
  },
  {
   "cell_type": "markdown",
   "id": "cc68dbd5",
   "metadata": {},
   "source": [
    "Ans: 4"
   ]
  },
  {
   "cell_type": "code",
   "execution_count": 15,
   "id": "6fee7b49",
   "metadata": {},
   "outputs": [
    {
     "name": "stdout",
     "output_type": "stream",
     "text": [
      "Enter a Character: q\n",
      "Ascii Character of q is 113\n"
     ]
    }
   ],
   "source": [
    "def charToAscii():\n",
    "    char = input('Enter a Character: ')\n",
    "    print(f'Ascii Character of {char} is {ord(char)}')\n",
    "\n",
    "charToAscii()"
   ]
  },
  {
   "cell_type": "code",
   "execution_count": 12,
   "id": "740aa975",
   "metadata": {},
   "outputs": [
    {
     "name": "stdout",
     "output_type": "stream",
     "text": [
      "Enter a Character: @\n",
      "Ascii Character of @ is 64\n"
     ]
    }
   ],
   "source": [
    "charToAscii()"
   ]
  },
  {
   "cell_type": "code",
   "execution_count": 13,
   "id": "091b207e",
   "metadata": {},
   "outputs": [
    {
     "name": "stdout",
     "output_type": "stream",
     "text": [
      "Enter a Character: b\n",
      "Ascii Character of b is 98\n"
     ]
    }
   ],
   "source": [
    "charToAscii()"
   ]
  },
  {
   "cell_type": "code",
   "execution_count": null,
   "id": "0708a95c",
   "metadata": {},
   "outputs": [],
   "source": []
  },
  {
   "cell_type": "markdown",
   "id": "9960b0d1",
   "metadata": {},
   "source": [
    "Ans: 5"
   ]
  },
  {
   "cell_type": "code",
   "execution_count": 27,
   "id": "f8d1f45f",
   "metadata": {},
   "outputs": [],
   "source": [
    "def calculator():\n",
    "    num_1 = int(input(\"Enter first number: \"))\n",
    "    ops = str(input(\"What operation would you like to perform: \"))\n",
    "    num_2 = int(input(\"Enter second number:\"))\n",
    "    \n",
    "    if ops == \"add\" or ops == \"+\":\n",
    "        print(\"{} + {} = {}\".format(num_1, num_2, num_1+num_2))\n",
    "        \n",
    "    elif ops == \"substract\" or ops == \"-\":\n",
    "        print(\"{} - {} = {}\".format(num_1, num_2, num_1-num_2))\n",
    "        \n",
    "    elif ops == \"multiply\" or ops == \"*\":\n",
    "        print(\"{} X {} = {}\".format(num_1, num_2, num_1*num_2))\n",
    "        \n",
    "    elif ops == \"division\" or ops == \"%\":\n",
    "        print(\"{} / {} = {}\".format(num_1, num_2, num_1/num_2))\n",
    "        \n",
    "    else:\n",
    "        print(\"Enter correct operation\")"
   ]
  },
  {
   "cell_type": "code",
   "execution_count": 28,
   "id": "2e055f87",
   "metadata": {},
   "outputs": [
    {
     "name": "stdout",
     "output_type": "stream",
     "text": [
      "Enter first number: 15\n",
      "What operation would you like to perform: %\n",
      "Enter second number:3\n",
      "15 / 3 = 5.0\n"
     ]
    }
   ],
   "source": [
    "calculator()"
   ]
  },
  {
   "cell_type": "code",
   "execution_count": 30,
   "id": "759935c4",
   "metadata": {},
   "outputs": [
    {
     "name": "stdout",
     "output_type": "stream",
     "text": [
      "Enter first number: 1\n",
      "What operation would you like to perform: #\n",
      "Enter second number:2\n",
      "Enter correct operation\n"
     ]
    }
   ],
   "source": [
    "calculator()"
   ]
  },
  {
   "cell_type": "code",
   "execution_count": null,
   "id": "b9a7ac7d",
   "metadata": {},
   "outputs": [],
   "source": []
  }
 ],
 "metadata": {
  "kernelspec": {
   "display_name": "ine",
   "language": "python",
   "name": "ine"
  },
  "language_info": {
   "codemirror_mode": {
    "name": "ipython",
    "version": 3
   },
   "file_extension": ".py",
   "mimetype": "text/x-python",
   "name": "python",
   "nbconvert_exporter": "python",
   "pygments_lexer": "ipython3",
   "version": "3.10.5"
  }
 },
 "nbformat": 4,
 "nbformat_minor": 5
}
